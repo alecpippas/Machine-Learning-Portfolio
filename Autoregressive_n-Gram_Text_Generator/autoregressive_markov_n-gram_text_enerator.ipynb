{
 "cells": [
  {
   "cell_type": "markdown",
   "id": "b4c6ed96",
   "metadata": {
    "id": "b4c6ed96"
   },
   "source": [
    "# Lab 3: Generating Text with an Autoregressive Model\n",
    "\n",
    "In this lab, we will build a simple model for generating text in the style of a given book. In lecture, we learned about **probabalistic models**, which views the data given as the result of some random process. In this lab, we will be using this probablistic assumption to **generate new data**. Specifically, we will use an autoregressive model, as discussed in Lecture 4. Our model will begin with a list of words, and generate a new word based on the $k$ most recent previous words. $k$ is chosen to be a small fixed constant, which limits the complexity of the model.\n",
    "\n",
    "Sometimes this type of model is also called a Markov Model. Similar techniques can be used for time-series and really any other data that has some notion of _recency_. For example, our Lab 2 studied an auto-regressive model for time series data. Even fancy modern language models like the GPT family of models are auto-regressive.\n",
    "\n",
    "We get our input data from [Project Gutenberg](https://www.gutenberg.org/), a free library of public-works books made available online. By default, we include four books in this lab:\n",
    "- _Alice in Wonderland_ by Lewis Carroll\n",
    "- _Metamorphosis_ by Franz Kafka\n",
    "- _The Count of Monte Cristo_ by Alexandre Dumas\n",
    "- _The Complete Works of William Shakespeare_ by William Shakespeare\n",
    "\n",
    "You will be able to add or change these book as you please, and there is code to make this relatively seamless. Pick your favorite work on the site!\n",
    "\n",
    "---\n",
    "\n",
    "The goals of this lab are to:\n",
    "- Get some experience preprocessing data\n",
    "- Train and generate text with an autoregressive model\n",
    "- Understand the quality/plagiarism tradeoff that comes with increasing the complexity of the autoregressive model\n",
    "- Get some experience building experiments that teach us about our models\n"
   ]
  },
  {
   "cell_type": "code",
   "execution_count": 1,
   "id": "f516d751",
   "metadata": {
    "id": "f516d751"
   },
   "outputs": [],
   "source": [
    "# Importing Libararies\n",
    "\n",
    "import random\n",
    "import numpy as np\n",
    "from tqdm import tqdm # Quality-of-life package, makes loading bars in for loops. See github.com/tqdm/tqdm for details.\n",
    "\n",
    "import matplotlib.pyplot as plt\n",
    "plt.style.use('classic') # Optional styling for the plots. I think it's pretty."
   ]
  },
  {
   "cell_type": "markdown",
   "id": "44c4727f",
   "metadata": {
    "id": "44c4727f"
   },
   "source": [
    "---\n",
    "\n",
    "# 1. Preprocessing text\n",
    "\n",
    "First, we have some code to help you download books from Project Gutenberg directly. The function `download_from_book_id(bookid, bookname)` will take the id of a book on Gutenberg and download it locally as the file `bookname.txt`.\n",
    "\n",
    "However, we will see that the `.txt` files hosted by Project Gutenberg have headers and footer containing some metadata and legal text. Your first coding task will be to remove that metadata and legal text.\n",
    "\n",
    "To use your own book of interest, search for it on Project Gutenberg, and take the number at the end of the url for that page. For instance, if you search for _The Count of Monte Cristo_, you will get the url `https://www.gutenberg.org/ebooks/1184`, and so the `bookid=1184` for that book.\n"
   ]
  },
  {
   "cell_type": "code",
   "execution_count": 2,
   "id": "MOk_y4Aj0Zkd",
   "metadata": {
    "id": "MOk_y4Aj0Zkd"
   },
   "outputs": [],
   "source": [
    "#Code adapted from https://pypi.org/project/Gutenberg/ to help download from\n",
    "#Project Gutenberg (www.gutenberg.org/) automatically. You don't need to read this.\n",
    "\n",
    "def _format_download_urls(etextno):\n",
    "    \"\"\"\n",
    "    Returns the possible urls location on the Project Gutenberg servers for a\n",
    "    given text. Mostly ripped from https://pypi.org/project/Gutenberg/.\n",
    "    \"\"\"\n",
    "    uri_root = r'http://www.gutenberg.lib.md.us'\n",
    "\n",
    "    if 0 < etextno < 10:\n",
    "        oldstyle_files = (\n",
    "            'when11',\n",
    "            'bill11',\n",
    "            'jfk11',\n",
    "            'getty11',\n",
    "            'const11',\n",
    "            'liber11',\n",
    "            'mayfl11',\n",
    "            'linc211',\n",
    "            'linc111',\n",
    "        )\n",
    "        etextno = int(etextno)\n",
    "        return '{root}/etext90/{name}.txt'.format(\n",
    "            root=uri_root,\n",
    "            name=oldstyle_files[etextno - 1])\n",
    "\n",
    "    else:\n",
    "        etextno = str(etextno)\n",
    "        extensions = ('.txt', '-8.txt', '-0.txt')\n",
    "        urls = []\n",
    "        for extension in extensions:\n",
    "            uri = '{root}/{path}/{etextno}/{etextno}{extension}'.format(\n",
    "                root=uri_root,\n",
    "                path='/'.join(etextno[:len(etextno) - 1]),\n",
    "                etextno=etextno,\n",
    "                extension=extension)\n",
    "            urls.append(uri)\n",
    "        return urls"
   ]
  },
  {
   "cell_type": "code",
   "execution_count": 3,
   "id": "ulXqKx01wrpq",
   "metadata": {
    "id": "ulXqKx01wrpq"
   },
   "outputs": [],
   "source": [
    "def download_from_book_id(bookid, bookname):\n",
    "  \"\"\"\n",
    "  Downloads a book from Project Gutenberg given the book's id number, and\n",
    "  stores it locally in `bookname.txt`.\n",
    "\n",
    "  :param      bookid:    The id of the book on Project Gutenberg\n",
    "  :type       bookid:    int\n",
    "  :param      bookname:  The name to give the book (or rather the file path to the book)\n",
    "  :type       bookname:  str\n",
    "  \"\"\"\n",
    "\n",
    "  book_dst = f'{bookname}.txt'\n",
    "\n",
    "  import os\n",
    "  from six.moves import urllib\n",
    "\n",
    "  if os.path.isfile(book_dst):\n",
    "      print('File %s is already downloaded' % book_dst)\n",
    "  else:\n",
    "      possible_urls = _format_download_urls(bookid)\n",
    "      print(possible_urls)\n",
    "      for url in possible_urls:\n",
    "        print(f'trying {url}...')\n",
    "        try:\n",
    "          urllib.request.urlretrieve(url, book_dst, )\n",
    "          print(f'Downloaded {bookname}.txt, with book id {bookid}.')\n",
    "          return\n",
    "        except urllib.error.HTTPError:\n",
    "          None\n",
    "      raise NameError(\"Couldn't find that book on Gutenberg\")\n"
   ]
  },
  {
   "cell_type": "code",
   "execution_count": 4,
   "id": "vTY8h5320DaR",
   "metadata": {
    "id": "vTY8h5320DaR"
   },
   "outputs": [
    {
     "name": "stdout",
     "output_type": "stream",
     "text": [
      "['http://www.gutenberg.lib.md.us/1/0/100/100.txt', 'http://www.gutenberg.lib.md.us/1/0/100/100-8.txt', 'http://www.gutenberg.lib.md.us/1/0/100/100-0.txt']\n",
      "trying http://www.gutenberg.lib.md.us/1/0/100/100.txt...\n",
      "trying http://www.gutenberg.lib.md.us/1/0/100/100-8.txt...\n",
      "trying http://www.gutenberg.lib.md.us/1/0/100/100-0.txt...\n",
      "Downloaded Shakespeare.txt, with book id 100.\n",
      "['http://www.gutenberg.lib.md.us/5/2/0/5200/5200.txt', 'http://www.gutenberg.lib.md.us/5/2/0/5200/5200-8.txt', 'http://www.gutenberg.lib.md.us/5/2/0/5200/5200-0.txt']\n",
      "trying http://www.gutenberg.lib.md.us/5/2/0/5200/5200.txt...\n",
      "trying http://www.gutenberg.lib.md.us/5/2/0/5200/5200-8.txt...\n",
      "trying http://www.gutenberg.lib.md.us/5/2/0/5200/5200-0.txt...\n",
      "Downloaded Metamorphosis.txt, with book id 5200.\n",
      "['http://www.gutenberg.lib.md.us/1/11/11.txt', 'http://www.gutenberg.lib.md.us/1/11/11-8.txt', 'http://www.gutenberg.lib.md.us/1/11/11-0.txt']\n",
      "trying http://www.gutenberg.lib.md.us/1/11/11.txt...\n",
      "trying http://www.gutenberg.lib.md.us/1/11/11-8.txt...\n",
      "trying http://www.gutenberg.lib.md.us/1/11/11-0.txt...\n",
      "Downloaded Wonderland.txt, with book id 11.\n",
      "['http://www.gutenberg.lib.md.us/1/1/8/1184/1184.txt', 'http://www.gutenberg.lib.md.us/1/1/8/1184/1184-8.txt', 'http://www.gutenberg.lib.md.us/1/1/8/1184/1184-0.txt']\n",
      "trying http://www.gutenberg.lib.md.us/1/1/8/1184/1184.txt...\n",
      "trying http://www.gutenberg.lib.md.us/1/1/8/1184/1184-8.txt...\n",
      "trying http://www.gutenberg.lib.md.us/1/1/8/1184/1184-0.txt...\n",
      "Downloaded MonteCristo.txt, with book id 1184.\n"
     ]
    }
   ],
   "source": [
    "download_from_book_id(100, \"Shakespeare\")\n",
    "download_from_book_id(5200, \"Metamorphosis\")\n",
    "download_from_book_id(11, \"Wonderland\")\n",
    "download_from_book_id(1184, \"MonteCristo\")"
   ]
  },
  {
   "cell_type": "markdown",
   "id": "Hx0AYYTM6qIC",
   "metadata": {
    "id": "Hx0AYYTM6qIC"
   },
   "source": [
    "---\n",
    "\n",
    "Now we have stored `Shakespeare.txt`, `Metamorphosis.txt`, `Wonderland.txt`, and `MonteCristo.txt` locally. Let's open up one of these files and look at the first 1000 characters:\n",
    "\n",
    "---"
   ]
  },
  {
   "cell_type": "code",
   "execution_count": 5,
   "id": "iV8Kh-kG67S1",
   "metadata": {
    "id": "iV8Kh-kG67S1"
   },
   "outputs": [
    {
     "name": "stdout",
     "output_type": "stream",
     "text": [
      "*** START OF THE PROJECT GUTENBERG EBOOK 11 ***\n",
      "[Illustration]\n",
      "\n",
      "\n",
      "\n",
      "\n",
      "Alice’s Adventures in Wonderland\n",
      "\n",
      "by Lewis Carroll\n",
      "\n",
      "THE MILLENNIUM FULCRUM EDITION 3.0\n",
      "\n",
      "Contents\n",
      "\n",
      " CHAPTER I.     Down the Rabbit-Hole\n",
      " CHAPTER II.    The Pool of Tears\n",
      " CHAPTER III.   A Caucus-Race and a Long Tale\n",
      " CHAPTER IV.    The Rabbit Sends in a Little Bill\n",
      " CHAPTER V.     Advice from a Caterpillar\n",
      " CHAPTER VI.    Pig and Pepper\n",
      " CHAPTER VII.   A Mad Tea-Party\n",
      " CHAPTER VIII.  The Queen’s Croquet-Ground\n",
      " CHAPTER IX.    The Mock Turtle’s Story\n",
      " CHAPTER X.     The Lobster Quadrille\n",
      " CHAPTER XI.    Who Stole the Tarts?\n",
      " CHAPTER XII.   Alice’s Evidence\n",
      "\n",
      "\n",
      "\n",
      "\n",
      "CHAPTER I.\n",
      "Down the Rabbit-Hole\n",
      "\n",
      "\n",
      "Alice was beginning to get very tired of sitting by her sister on the\n",
      "bank, and of having nothing to do: once or twice she had peeped into\n",
      "the book her sister was reading, but it had no pictures or\n",
      "conversations in it, “and what is the use of a book,” thought Alice\n",
      "“without pictures or conversations?”\n",
      "\n",
      "So she was considering in her \n"
     ]
    }
   ],
   "source": [
    "file_handle = open(\"Books/Wonderland.txt\", encoding=\"utf8\")  # It's very important to mention utf8 encoding\n",
    "wonderland_book_text = file_handle.read()  # Copies the book as a string in memory\n",
    "file_handle.close()\n",
    "\n",
    "print(wonderland_book_text[0:1000])"
   ]
  },
  {
   "cell_type": "markdown",
   "id": "Juxrpr637OWR",
   "metadata": {
    "id": "Juxrpr637OWR"
   },
   "source": [
    "---\n",
    "\n",
    "We can see that most of this is legal exta and metadata we do not want to include in our machine learning model. Conveniantly, Project Gutenberg added the following line of text to each book at the start:\n",
    "> `*** START OF THE PROJECT GUTENBERG EBOOK`\n",
    "\n",
    "Similarly, the end of the book has a huge amount of text (about 20,000 characters) that is not actually part of the book. Again, Project Gutenberg has the following line of text to note where the actual book ends:\n",
    "> `*** END OF THE PROJECT GUTENBERG EBOOK`\n",
    "\n",
    "Your first task is to write the following function `word_sequence_from_file`. This function is given a filepath to a locally downloaded Project Gutenberg book. It reads that file, finds where the text of the book actually starts and ends (i.e. without metadata and legal text), and returns the text of the book as a list of strings.\n",
    "\n",
    "You should use the command `str.split()` to turn a string into a list of words. An example is given below."
   ]
  },
  {
   "cell_type": "code",
   "execution_count": 6,
   "id": "8SeruBK79kEr",
   "metadata": {
    "id": "8SeruBK79kEr"
   },
   "outputs": [
    {
     "data": {
      "text/plain": [
       "['This',\n",
       " 'is',\n",
       " 'a',\n",
       " 'string.',\n",
       " 'It',\n",
       " 'has',\n",
       " 'a',\n",
       " 'new',\n",
       " 'line',\n",
       " 'and',\n",
       " 'lots',\n",
       " 'of',\n",
       " 'whitespace',\n",
       " 'in',\n",
       " 'it.',\n",
       " 'Some',\n",
       " 'punctuation',\n",
       " 'too',\n",
       " '--',\n",
       " 'like',\n",
       " 'this!!!']"
      ]
     },
     "execution_count": 6,
     "metadata": {},
     "output_type": "execute_result"
    }
   ],
   "source": [
    "# An example of string splitting\n",
    "\"This is a string.\\n\\n\\nIt has a new line     and \\t lots of whitespace in it. Some punctuation too -- like this!!!\".split()\n",
    "\n",
    "#note: special whitespace characters like \\n and \\t are treated as whitespace and not included in the output list of the split() method"
   ]
  },
  {
   "cell_type": "code",
   "execution_count": 7,
   "id": "832de4e4",
   "metadata": {
    "id": "832de4e4"
   },
   "outputs": [],
   "source": [
    "import re\n",
    "\n",
    "def word_sequence_from_file(filepath):\n",
    "    \"\"\"\n",
    "    Given a filepath to a text file for a Project Gutenberg book, this splits\n",
    "    the book into a list of strings, where each string is a word from the book.\n",
    "    Formatting data, like where \\n or spaces happen is destroyed by this, but\n",
    "    punctuation like \"word.\" are preserved.\n",
    "\n",
    "    :param      filepath:  The filepath to the book\n",
    "    :type       filepath:  string\n",
    "\n",
    "    :returns:   A list of strings without any whitespace.\n",
    "    :rtype:     List of string\n",
    "    \"\"\"\n",
    "\n",
    "    # Open the file\n",
    "    file_handle = open(filepath, encoding=\"utf8\")\n",
    "    raw_book_text = file_handle.read()  # Copies the book as a string in memory\n",
    "    file_handle.close()\n",
    "\n",
    "    # TODO: Write this function.\n",
    "    start_pattern = r\"\\*\\*\\* START OF THE PROJECT GUTENBERG EBOOK .* \\*\\*\\*\"\n",
    "    match_s = re.search(start_pattern, raw_book_text) #returns a re match object\n",
    "    start_of_text_index = match_s.end() #match.end() returns the index of the character after the last character in the matching pattern\n",
    "\n",
    "    end_pattern = r\"\\*\\*\\* END OF THE PROJECT GUTENBERG EBOOK .* \\*\\*\\*\"\n",
    "    match_e = re.search(end_pattern, raw_book_text)\n",
    "    end_of_text_index = match_e.start() #match.start() returns the index of the first character in the matching pattern\n",
    "\n",
    "    clean_book_text = raw_book_text[start_of_text_index:end_of_text_index]\n",
    "\n",
    "    word_sequence = clean_book_text.split()\n",
    "\n",
    "    return word_sequence"
   ]
  },
  {
   "cell_type": "code",
   "execution_count": 8,
   "id": "4909c91b",
   "metadata": {
    "id": "4909c91b"
   },
   "outputs": [],
   "source": [
    "shakespeare = word_sequence_from_file(\"Books/Shakespeare.txt\")\n",
    "metamorphosis = word_sequence_from_file(\"Books/Metamorphosis.txt\")\n",
    "wonderland = word_sequence_from_file(\"Books/Wonderland.txt\")\n",
    "montecristo = word_sequence_from_file(\"Books/MonteCristo.txt\")"
   ]
  },
  {
   "cell_type": "markdown",
   "id": "7HIVVjeidrhd",
   "metadata": {
    "id": "7HIVVjeidrhd"
   },
   "source": [
    "To verify that the text looks correct, we can use `\" \".join(word_sequence)` to turn a list of strings back into text. Note that we have replaced all whitespace with just a space, so the formatting looks a bit different. The words should be the same though."
   ]
  },
  {
   "cell_type": "code",
   "execution_count": 9,
   "id": "8K4_Uq_TeBcD",
   "metadata": {
    "id": "8K4_Uq_TeBcD"
   },
   "outputs": [
    {
     "data": {
      "text/plain": [
       "'by Franz Kafka Translated by David Wyllie I One morning, when Gregor Samsa woke from troubled dreams, he found himself transformed in his bed into a horrible vermin. He lay on his armour-like back, and if he lifted his head a little he could see his brown belly, slightly domed and divided by arches into stiff sections. The bedding was hardly able to cover it and seemed ready to slide off any moment. His many legs, pitifully thin compared with the size of the rest of him, waved about helplessly as he looked. “What’s happened to me?” he thought.'"
      ]
     },
     "metadata": {},
     "output_type": "display_data"
    }
   ],
   "source": [
    "# Prints the first 100 words from Kafka's Metamorphosis\n",
    "# It's okay if there's a couple extra words at the beginning like\n",
    "# > \"by Franz Kafka Translated by David Wyllie\"\n",
    "# This is just a couple words that will not change our model significantly\n",
    "\n",
    "display(\" \".join(metamorphosis[1:100]))"
   ]
  },
  {
   "cell_type": "markdown",
   "id": "Yj9psl0f-sZM",
   "metadata": {
    "id": "Yj9psl0f-sZM"
   },
   "source": [
    "---\n",
    "\n",
    "#2. Learning an Autoregressive Model\n",
    "\n",
    "We will explore a probabilistic model of the English language. We will describe this as a generative model; that is, we describe how book is randomly generated.\n",
    "\n",
    "\n",
    "\n",
    "We can approximate the structure of a book using a simple model called a **Markov Model** or autoregressive model. A markov model of **order** 0 predicts that each word in the book occurs with a fixed probability, independent of all other words. We can fit such a model to the book by counting the number of occurances of each word in that text, and using these counts as probabilities. For example, we could generate the following sentence from Kafka's _Metamorphosis_:\n",
    "\n",
    "> and calmness her he way “Gregor! to thought, dark bone fact, in they it than she way as bringing\n",
    "\n",
    "This obviously misses basic grammar because the model chooses each word independently.\n",
    "This does not capture how language works, since in reality there are huge correlations between consequtive words. For example, in English, adjectives typically come before nouns -- we say \"a red boat\" not \"a boat red\".\n",
    "\n",
    "We get a more complex model by allowing the probability of choosing each successive word to depend on the preceding words. A **Markov Model of order $k$** predicts that each word occurs with some probability, but that probability depends on the previous $k$ consequtive words, called a **k-gram**.\n",
    "\n",
    "> For example, suppose a book has the string `My name is` appear 10 times in it. 4 of those times are followed by `Alice`, 2 of those are followed by `Bob`, 2 by `Jesse`, and 2 by `Steve`. Then, a Markov Model of order 3 predicts that the word following the 3-gram `My name is` will be `Alice` with probability $\\frac{4}{10}$, `Bob` with probability $\\frac{2}{10}$, `Jesse` with probability $\\frac{2}{10}$, and `Steve` with probability $\\frac{2}{10}$.\n",
    "\n",
    "\n",
    "---\n",
    "_This text introduction to Markov Models is a paraphrasing of the [this](https://www.cs.princeton.edu/courses/archive/spr05/cos126/assignments/markov.html) assignment taught at Princeton, originally taught by Bob Sedgewick and Kevin Wayne._\n",
    "\n",
    "---\n",
    "\n",
    "Your next task is to write the following function, which, for each k-gram in a book, counts the frequency with which each word appears after that k-gram."
   ]
  },
  {
   "cell_type": "code",
   "execution_count": 10,
   "id": "eef27074",
   "metadata": {
    "id": "eef27074"
   },
   "outputs": [],
   "source": [
    "def make_freq_dict(k, word_sequence):\n",
    "    \"\"\"\n",
    "    Makes a \"frequency dictionary\" called `freq_dict` from a sequence of words.\n",
    "    For each k-gram that appears in `word_sequence`, freq_dict[k_gram] is\n",
    "    another dictionary that maps words to how often they occur after k_gram.\n",
    "\n",
    "    For example, if k=3, suppose that running `freq_dict[\"they did something\"]`\n",
    "    returns following dictionary:\n",
    "        {\n",
    "            \"weird\": 4,\n",
    "            \"funny\": 3,\n",
    "            \"strange.\": 7\n",
    "        }\n",
    "    Then, the `word_sequence` has the phrase \"they did something weird\" appear\n",
    "    4 times, \"they did something funny\" appear 3 times, and \"they did something\n",
    "    strange.\" appear 7 times. In other words,\n",
    "    `freq_dict[\"they did something\"][\"strange\"]` returns how many times\n",
    "    \"they did something strange\" appears in `word_sequence`.\n",
    "\n",
    "    :param      k:              Size of k-gram\n",
    "    :type       k:              int\n",
    "    :param      word_sequence:  A book, broken up into a list of strings\n",
    "    :type       word_sequence:  List of string\n",
    "\n",
    "    :returns:   Frequency dictionary\n",
    "    :rtype:     Dict that maps strings to {Dict that maps string to ints}\n",
    "    \"\"\"\n",
    "\n",
    "    # Make empty dict to count frequencies\n",
    "    freq_dict = dict()\n",
    "    for word_ind in range(len(word_sequence) - k):\n",
    "        #construct the current k_gram\n",
    "        for k_ind in range(0, k):\n",
    "            if k_ind == 0:\n",
    "                k_gram = word_sequence[word_ind]\n",
    "            else:\n",
    "                k_gram = k_gram + \" \" + word_sequence[word_ind + k_ind]\n",
    "        \n",
    "        next_word = word_sequence[word_ind + k]\n",
    "        if k_gram not in freq_dict: #add k-gram as a child dictionary if a key for the k-gram does not already exist\n",
    "             freq_dict[k_gram] = {}\n",
    "\n",
    "        if next_word not in freq_dict[k_gram]: #initialize the count to 1 if a key for the next_word does not exist within the current k-gram dictionary\n",
    "            freq_dict[k_gram][next_word] = 1\n",
    "        else:\n",
    "            freq_dict[k_gram][next_word] += 1\n",
    "        \n",
    "    return freq_dict"
   ]
  },
  {
   "cell_type": "code",
   "execution_count": 11,
   "id": "da3d1861",
   "metadata": {},
   "outputs": [],
   "source": [
    "#test the make_freq_dict() function\n",
    "\n",
    "#test_dict_1 = make_freq_dict(3, metamorphosis[1:1000])\n",
    "#print(test_dict_1)\n",
    "\n",
    "#test_words = ([\"apple\"] * 10) + ([\"pear\"] * 10)\n",
    "#print(test_words)\n",
    "#test_dict_2 = make_freq_dict(2, test_words)\n",
    "#print(test_dict_2)"
   ]
  },
  {
   "cell_type": "markdown",
   "id": "8tR642y-10aD",
   "metadata": {
    "id": "8tR642y-10aD"
   },
   "source": [
    "---\n",
    "\n",
    "Next, write the following functions that use a `freq_dict` to predict the next words given a $k$-gram, and to generate a whole paragraph given a starting $k$-gram. Be sure to carefully read the descriptions of the functions."
   ]
  },
  {
   "cell_type": "code",
   "execution_count": null,
   "id": "904152b3",
   "metadata": {
    "id": "904152b3"
   },
   "outputs": [],
   "source": [
    "import random\n",
    "\n",
    "def predict_next_word(this_kgram, freq_dict):\n",
    "    \"\"\"\n",
    "    Randomly picks the next word given the previous k-gram, using the frequency\n",
    "    of possible next words according to `freq_dict`. If `freq_dict` does not\n",
    "    contain the k-gram, return None.\n",
    "\n",
    "    :param      this_kgram:  The current k-gram\n",
    "    :type       this_kgram:  string\n",
    "    :param      freq_dict:   A frequency dictionary\n",
    "    :type       freq_dict:   Dict that maps strings to {Dict that maps string to ints}\n",
    "\n",
    "    :returns:   The next word, or None\n",
    "    :rtype:     string or None\n",
    "    \"\"\"\n",
    "    if this_kgram not in freq_dict:\n",
    "        return None\n",
    "    \n",
    "    possible_next_words = []\n",
    "    frequencies = []\n",
    "    for next_word, frequency in freq_dict[this_kgram].items():\n",
    "        possible_next_words.append(next_word)\n",
    "        frequencies.append(frequency)\n",
    "    \n",
    "    chosen_word = random.choices(possible_next_words, weights=frequencies, k=1) # random.choices() makes a random selection with replacement from a sequence; weights: the higher the weigh the more likely that element is to be selected; k: number of random elements to select\n",
    "\n",
    "    ## random.choices() will be useful here\n",
    "    return chosen_word[0]\n",
    "    \n",
    "\n",
    "def predict_paragraph(start_kgram, k, freq_dict, gen_length=300):\n",
    "    \"\"\"\n",
    "    Given a starting k-gram, this randomly generates `gen_length` many new\n",
    "    words to form a paragraph of text consistent with `freq_dict`. If the last\n",
    "    word in the book is generated (i.e. if `predict_next_word` returns None),\n",
    "    then this will short-circuit and stop generating words early.\n",
    "\n",
    "    :param      start_kgram:  The kgram to start from.\n",
    "    :type       start_kgram:  List of string\n",
    "    :param      k:            k-gram size\n",
    "    :type       k:            int\n",
    "    :param      freq_dict:    A frequency dictionary\n",
    "    :type       freq_dict:    Dict that maps strings to {Dict that maps string to ints}\n",
    "    :param      gen_length:   The number of words to generate.\n",
    "    :type       gen_length:   int\n",
    "\n",
    "    :returns:   A generated paragraph\n",
    "    :rtype:     List of string\n",
    "    \"\"\"\n",
    "\n",
    "    ## TODO: WRITE THIS FUNCTION\n",
    "    gen_para = list(start_kgram) #make a shallow-copy of start_kgram so it references unique list object in memory\n",
    "    prev_kgram = start_kgram\n",
    "\n",
    "    for i in range(gen_length):\n",
    "        prev_kgram_str = \" \".join(prev_kgram)\n",
    "        next_word = predict_next_word(prev_kgram_str, freq_dict)\n",
    "        #break  if predict_next_word returns None and return gen_para up to that point\n",
    "        if next_word == None:\n",
    "            break\n",
    "        \n",
    "        gen_para.append(next_word)\n",
    "        prev_kgram = prev_kgram[1:] + [next_word]\n",
    "\n",
    "    return gen_para"
   ]
  },
  {
   "cell_type": "markdown",
   "id": "m39BmzND31r6",
   "metadata": {
    "id": "m39BmzND31r6"
   },
   "source": [
    "With these functions, we can run some sample code and see how well our synthetic text generator works! Mess around with the value of `k_test` below to see how changing the size of the $k$-gram impacts the quality of the generated  text. You can also swap out the book from _Metamorphosis_ to any other book you prefer. Lastly, you can change what the starting $k$-gram is by changing `start_test` to some other $k$-gram that appears in your book.\n",
    "\n",
    "- When you are done, leave this at `k_test=3` and move onto the next section.\n",
    "\n"
   ]
  },
  {
   "cell_type": "code",
   "execution_count": 27,
   "id": "e833848d",
   "metadata": {
    "id": "e833848d"
   },
   "outputs": [
    {
     "data": {
      "text/plain": [
       "'a few air holes in it; the main thing holding the family back from their decision to move was much more to do with their total despair, and the thought that they had lost sight of any thought for the future. Gregor, though, did think about the future. The greatest improvement for the time being, of course, would be achieved quite easily by moving house; what they needed now was a flat that was smaller and cheaper than the current one which had been chosen by Gregor, one that was in itself quite startling as his pain-wracked condition meant that turning round required a great deal of effort and he was glad to provide it, although there was no longer any point in running as his father had decided to bombard him. He had filled his pockets with fruit from the bowl on the sideboard and now, without even taking the time for careful aim, threw one apple after another. These little, red apples rolled about on the floor, all these things made him feel uneasy as he lay there immobile. “We have to try and get rid of it”, said Gregor’s sister, now speaking only to her father, as her mother was too occupied with coughing to listen, “it’ll be the death of both of you, I can see it coming. We can’t all work as hard as we have to try and get rid of the idea that Gregor should be got back into his former position. “Getting up early all the time”, he thought, “it makes you stupid. You’ve got to get up, my train leaves at five.” And he looked over at the alarm clock, ticking on the chest of drawers and the desk, as she had done her an enormous service. She even swore emphatically not to tell'"
      ]
     },
     "execution_count": 27,
     "metadata": {},
     "output_type": "execute_result"
    }
   ],
   "source": [
    "# Pick k and make a frequency dictionary from Metamorphosis.\n",
    "k_test = 3\n",
    "freq_dict_test = make_freq_dict(k_test, metamorphosis)\n",
    "\n",
    "# pick a random (uniformly distributed) starting k-gram from the freq-dict.\n",
    "start_test = random.choice(list(freq_dict_test.keys())).split()\n",
    "\n",
    "# Alternatively, pick the start of the book as the first k-gram\n",
    "# start_test = metamorphosis[0:k_test]\n",
    "\n",
    "# Generate a paragraph, and print it.\n",
    "gen_paragraph = predict_paragraph(start_test, k_test, freq_dict_test)\n",
    "\" \".join(gen_paragraph)"
   ]
  },
  {
   "cell_type": "markdown",
   "id": "b1lkydsc2pAb",
   "metadata": {
    "id": "b1lkydsc2pAb"
   },
   "source": [
    "---\n",
    "\n",
    "#3. Creativive or Copying?\n",
    "\n",
    "This has effectively generated a nice paragraph of text that really feels in the style of Kafka/Shakespeare/etc. It is writing whole sentences that usually feel like valid English. While it is not writing fully coherent paragraphs, it is nevertheless pretty effective. But we quickly run into a common issue with generative models: is this $k$-gram model creating new sentences, or is it just copying whole passages from the original text? For instance, all $k$-grams in our generated text must exist in the original book.\n",
    "\n",
    "We approach this question with a very simple metric to check for plagiarism: the **Longest Common Substring** (LCS). Below, we use the `LcsFinder` class to do two things:\n",
    "1. We compute the length of the longest common substring between the full book and our generated paragraph.\n",
    "1. We visualize long common substrings using a simple approach: starting from the first word of the generated paragraph, we color all of the following words that appear in that same order in the original text in one color. We switch colors everytime the generated text deviates from the original text."
   ]
  },
  {
   "cell_type": "markdown",
   "id": "aed49938",
   "metadata": {
    "id": "aed49938"
   },
   "source": [
    "## 3.0 Code we give to you\n",
    "\n",
    "This is the class `LcsFinder`. Construct it with `LcsFinder(word_sequence)`, where `word_sequence` is a long list of strings (i.e. a book). Once constructed, there's two functions you might want to use:\n",
    "1. `LcsFinder.lcs_length(small_sequence)`, which finds the length of the Longest Common Substring (LCS) of `small_sequence` and `word_sequence`. `small_sequence` should also be a list of strings.\n",
    "2. `LcsFinder.greedy_lcs_markdown(small_sequence)`, which takes `small_sequence` and uses Markdown to highlight substrings of that text, where each substring of `small_sequence` is also a substring of `word_sequence`. It uses a greedy strategy to heuristically make these substrings as long as possible.\n",
    "\n",
    "You don't need to understand how the code in section 3.0 works, but you should understand how to use it. The first code block below is the actual code implimentation, and the two code blocks after that show how to run the code.\n",
    "\n",
    "_You can expand the code blocks by clocking on <font color=\"blue\">Show code</font>, and can hide the code again with the `Show/hide code` menu in the command pallate, which you can open with the key command `cmd-shift-p`._"
   ]
  },
  {
   "cell_type": "code",
   "execution_count": 28,
   "id": "19155c27",
   "metadata": {
    "cellView": "form",
    "id": "19155c27"
   },
   "outputs": [],
   "source": [
    "# @title\n",
    "#The code that impliments `LcsFinder`\n",
    "\n",
    "from IPython.display import display, Markdown #\n",
    "\n",
    "# Colors to use in the Markdown Text\n",
    "md_colors = [\"#009292\", \"#FF6DB6\", \"#490092\", \"#006DDB\", \"#B66DFF\", \"#920000\", \"#DB6D00\"]\n",
    "\n",
    "def list_of_seqs_to_markdown(list_of_sequences):\n",
    "    \"\"\"\n",
    "    Takes in a list-of-list-of-strings, and colors each sublist with a single\n",
    "    color cycling through the list `md_colors` to pick those colors\n",
    "\n",
    "    :param      list_of_sequences:  List of list of words\n",
    "    :type       list_of_sequences:  List of list of words\n",
    "    \"\"\"\n",
    "\n",
    "    # The output string\n",
    "    display_string = \"\"\n",
    "    for i, word_sequence in enumerate(list_of_sequences):\n",
    "        display_string = display_string + f'<font color={md_colors[i % len(md_colors)]}>{\" \".join(word_sequence)}</font> '\n",
    "\n",
    "    # Draw that string with Markdown\n",
    "    display(Markdown(display_string))\n",
    "\n",
    "\n",
    "class LcsFinder:\n",
    "    \"\"\"\n",
    "    Internally, this class takes `word_sequence` and\n",
    "    builds a hash table from any k-gram that appears in\n",
    "    `word_sequence` to the list of all indices where that\n",
    "    k-gram appears in `word_sequence`. This makes finding\n",
    "    the LCS pretty fast.\n",
    "    It also stores a set of all less-than-k grams that appear\n",
    "    in the text, but just as a set and not as a hash table.\n",
    "    \"\"\"\n",
    "\n",
    "    def __init__(self, word_sequence, k=3):\n",
    "        \"\"\"\n",
    "        By default, this hash table uses 3-grams, this seems to work well. Feel\n",
    "        free to pass in a different k-value, though keep in mind this is a\n",
    "        heuristic speedup, and is unrelated to the k-gram from the language\n",
    "        model.\n",
    "\n",
    "        :param      word_sequence:  A book\n",
    "        :type       word_sequence:  List of strings\n",
    "        :param      k:              Heuristic k-gram size for efficient lookup\n",
    "        :type       k:              int\n",
    "        \"\"\"\n",
    "        self.k = k\n",
    "        self.word_sequence = word_sequence\n",
    "        self.index_hash = dict()\n",
    "        self.short_gram_set = set()\n",
    "\n",
    "        for i in range(len(word_sequence)-k):\n",
    "\n",
    "            k_gram = \" \".join(word_sequence[i:i+k])  # Build this k-gram\n",
    "            if k_gram not in self.index_hash:\n",
    "                self.index_hash[k_gram] = []  # Add it to the hash table if it ain't there\n",
    "            self.index_hash[k_gram].append(i)  # And add the index to the list\n",
    "\n",
    "            # Update the set of short grams with all possible grams starting at i, and with length < k.\n",
    "            self.short_gram_set.update({\" \".join(word_sequence[i:i+j]) for j in range(1,k)})\n",
    "\n",
    "    def length_of_lcs_from_start(self, small_sequence, start_idx):\n",
    "        \"\"\"\n",
    "        Look for the longest common substring of word_sequence and\n",
    "        small_sequence, subject to the substring starting at\n",
    "        `small_sequence[start_idx]`. Returns the length of this LCS, measured in\n",
    "        words.\n",
    "\n",
    "        :param      small_sequence:  A small word sequence\n",
    "        :type       small_sequence:  List of strings\n",
    "        :param      start_idx:       The index where the LCS has to start at\n",
    "        :type       start_idx:       int\n",
    "\n",
    "        :returns:   Length of the LCS, measure in words\n",
    "        :rtype:     int\n",
    "        \"\"\"\n",
    "\n",
    "        # Build the k-gram rooted at start_idx\n",
    "        start_k_gram = \" \".join(small_sequence[start_idx:start_idx+self.k])\n",
    "\n",
    "        # If the k-gram is in the big hash table,\n",
    "        if start_k_gram in self.index_hash:\n",
    "\n",
    "            longest = 0\n",
    "\n",
    "            # Scan over all indices in the list in the hash table\n",
    "            for word_seq_index in self.index_hash[start_k_gram]:\n",
    "\n",
    "                # While loop, starting at size k, expanding the length of the LCS until the sequences stop matching\n",
    "                i = self.k\n",
    "                while (word_seq_index + i < len(self.word_sequence) and # in-bounds on word_sequence\n",
    "                       start_idx + i < len(small_sequence) and # in-bounds on small_sequence\n",
    "                       self.word_sequence[word_seq_index + i] == small_sequence[start_idx + i]): # the words are the same\n",
    "                    i = i+1\n",
    "\n",
    "                # The length of the longest LCS seen so far is kept\n",
    "                longest = max(longest, i)\n",
    "            return longest\n",
    "        else:\n",
    "            # If the k-gram ain't in the big hash table, check if it's sub-grams are in the stored set\n",
    "            for i in range(self.k-1,0,-1): # In order from k-1 to 1\n",
    "                if \" \".join(small_sequence[start_idx:start_idx+i]) in self.short_gram_set:\n",
    "                    return i\n",
    "            return 0\n",
    "\n",
    "    def lcs_length(self, small_sequence):\n",
    "        \"\"\"\n",
    "        Given `small_sequence`, a list of strings, this returns the length of\n",
    "        the longest common substring between `small_sequence` and\n",
    "        `word_sequence`\n",
    "\n",
    "        :param      small_sequence:  A small sequence of words\n",
    "        :type       small_sequence:  List of strings\n",
    "\n",
    "        :returns:   Length of the LCS, measured in words\n",
    "        :rtype:     int\n",
    "        \"\"\"\n",
    "        longest = 0\n",
    "\n",
    "        # Just iterative over all starting words in `small_sequence` and keep the biggest number\n",
    "        for i in range(len(small_sequence)):\n",
    "            sequence_len = self.length_of_lcs_from_start(small_sequence, i)\n",
    "            longest = max(longest, sequence_len)\n",
    "\n",
    "        return longest\n",
    "\n",
    "    # Given `small_sequence`, a list of strings, this prints highlighted markdown that shows where one substring of `word_sequence` ends and the next one starts. If a word doesn't appear in `word_sequence`, we just treat it like a substring of length 1.\n",
    "\n",
    "    def greedy_lcs_markdown(self, small_sequence):\n",
    "        \"\"\"\n",
    "        Given `small_sequence`, a list of strings, this prints highlighted\n",
    "        markdown that shows where one substring of `word_sequence` ends and the\n",
    "        next one starts. If a word doesn't appear in `word_sequence`, we just\n",
    "        treat it like a substring of length 1.\n",
    "\n",
    "        :param      small_sequence:  A small sequence of words\n",
    "        :type       small_sequence:  List of strings\n",
    "\n",
    "        :returns:   Markdown display text (renders by default on Jupyter)\n",
    "        :rtype:     Markdown display text\n",
    "        \"\"\"\n",
    "        list_of_sequences = []  # The output list\n",
    "\n",
    "        i = 0\n",
    "        while i < len(small_sequence):\n",
    "            # iteratate over small_sequence, finding the lcs rooted at index i,\n",
    "            # and color that LCS accordingly.\n",
    "            sequence_len = max(self.length_of_lcs_from_start(small_sequence, i), 1)\n",
    "            list_of_sequences.append(small_sequence[i:i+sequence_len])\n",
    "            i = i + sequence_len\n",
    "\n",
    "        return list_of_seqs_to_markdown(list_of_sequences)\n"
   ]
  },
  {
   "cell_type": "code",
   "execution_count": 29,
   "id": "b6aa92f2",
   "metadata": {
    "cellView": "form",
    "id": "b6aa92f2",
    "scrolled": true
   },
   "outputs": [
    {
     "data": {
      "text/markdown": [
       "The length of the LCS between `test_word_sequence` and `test_small_sequence` is 5."
      ],
      "text/plain": [
       "<IPython.core.display.Markdown object>"
      ]
     },
     "metadata": {},
     "output_type": "display_data"
    }
   ],
   "source": [
    "#@markdown An example of how to build an `LcsFinder`. The `str.split()` function turns the string into a list of string.\n",
    "test_word_sequence = \"wow this is a sentence that I wrote like wow this is a real thing\".split(\" \")\n",
    "test_small_sequence = \"heck this is a sentence that is sgetti\".split(\" \")\n",
    "\n",
    "test_LCS_finder = LcsFinder(test_word_sequence)\n",
    "test_lcs_length = test_LCS_finder.lcs_length(test_small_sequence)\n",
    "display(Markdown(f'The length of the LCS between `test_word_sequence` and `test_small_sequence` is {test_lcs_length}.'))"
   ]
  },
  {
   "cell_type": "code",
   "execution_count": 25,
   "id": "67e21af9",
   "metadata": {
    "cellView": "form",
    "id": "67e21af9",
    "scrolled": true
   },
   "outputs": [
    {
     "data": {
      "text/markdown": [
       "<font color=#009292>heck</font> <font color=#FF6DB6>this is a sentence that</font> <font color=#490092>is</font> <font color=#006DDB>sgetti</font> "
      ],
      "text/plain": [
       "<IPython.core.display.Markdown object>"
      ]
     },
     "metadata": {},
     "output_type": "display_data"
    }
   ],
   "source": [
    "#@markdown An example of coloring the `small_sequence` by all the LCS's found in the word_sequence.\n",
    "test_LCS_finder.greedy_lcs_markdown(test_small_sequence)"
   ]
  },
  {
   "cell_type": "markdown",
   "id": "T8kj9s3hdmRq",
   "metadata": {
    "id": "T8kj9s3hdmRq"
   },
   "source": [
    "## 3.1 LCS on Generated Text"
   ]
  },
  {
   "cell_type": "code",
   "execution_count": 43,
   "id": "a91d132d",
   "metadata": {
    "id": "a91d132d"
   },
   "outputs": [
    {
     "name": "stdout",
     "output_type": "stream",
     "text": [
      "LCS length: 56 words\n"
     ]
    },
    {
     "data": {
      "text/markdown": [
       "<font color=#009292>a few air holes in it; the main thing holding the family back from their decision to move was much more to do with their total despair, and the thought that they had</font> <font color=#FF6DB6>lost sight of any thought for the future. Gregor, though, did think about the future. The</font> <font color=#490092>greatest improvement for the time being, of course, would be achieved quite easily by moving house; what they needed now was a flat that was smaller and cheaper than the current one which had been chosen by Gregor, one that was in</font> <font color=#006DDB>itself quite startling as his pain-wracked condition meant that turning round required a great deal of effort and he was</font> <font color=#B66DFF>glad to provide it, although there was no longer</font> <font color=#920000>any point in running as his father had decided to bombard him. He had filled his pockets with fruit from the bowl on the sideboard and now, without even taking the time for careful aim, threw one apple after another. These little, red apples rolled about on the floor,</font> <font color=#DB6D00>all these things made him feel</font> <font color=#009292>uneasy as he lay there</font> <font color=#FF6DB6>immobile. “We have to try and get rid of it”, said Gregor’s sister, now speaking only to her father, as her mother was too occupied with coughing to listen, “it’ll be the death of both of you, I can see it coming. We can’t all work as hard as we have to</font> <font color=#490092>try and get rid of</font> <font color=#006DDB>the idea that Gregor should be got back into his</font> <font color=#B66DFF>former position. “Getting up early all the time”, he thought, “it makes you stupid. You’ve got to get</font> <font color=#920000>up, my train leaves at five.” And he looked over at the alarm clock, ticking on the chest of</font> <font color=#DB6D00>drawers and the desk, as she had</font> <font color=#009292>done her an enormous service. She even swore emphatically not to tell</font> "
      ],
      "text/plain": [
       "<IPython.core.display.Markdown object>"
      ]
     },
     "metadata": {},
     "output_type": "display_data"
    }
   ],
   "source": [
    "# Build an LcsFinder for Metamorphosis\n",
    "metamorphosis_finder = LcsFinder(metamorphosis)\n",
    "\n",
    "# Use the LcsFinder to find the LCS length in the generated paragraph\n",
    "print(f'LCS length: {metamorphosis_finder.lcs_length(gen_paragraph)} words')\n",
    "\n",
    "# Use the LcsFinder to highlight substrings in the generated text that appear in the original text.\n",
    "metamorphosis_finder.greedy_lcs_markdown(gen_paragraph)"
   ]
  },
  {
   "cell_type": "markdown",
   "id": "R4lripGN6ldT",
   "metadata": {
    "id": "R4lripGN6ldT"
   },
   "source": [
    "---\n",
    "Note that in the paragraph above, every chunk of text in the same color was copied directly from the original book.\n",
    "This shows a non-trivial amount of copying going on. Despite only using $3$-grams, we are often copying much more than 3 words at a time from the original book. Sometimes, we are copying whole sentences.\n",
    "\n",
    "We find ourselves at an impass:\n",
    "- If we make $k$ too small, then we lose the structure of grammer, and generate nonsense.\n",
    "- If we make $k$ too large, then we start plagiarizing.\n",
    "\n",
    "Let's try to understand the scale of this problem. Take a book, generate 100 paragraphs of 300 words for each of 5 different values of $k$, and compute the length of the LCS between the book and the generated paragraph. Specifically, compute the $25^{th}$ quartile, median, and $75^{th}$ quartile of the LCS length across the 100 trials."
   ]
  },
  {
   "cell_type": "code",
   "execution_count": 59,
   "id": "2cd8d2f6",
   "metadata": {
    "id": "2cd8d2f6"
   },
   "outputs": [],
   "source": [
    "# Which values of k to generate k-grams for and estimate LCS lengths with\n",
    "ks_to_plot = [1, 2, 3, 4, 5]\n",
    "\n",
    "def gen_lcs_statistics(word_sequence):\n",
    "    \"\"\"\n",
    "    Given a word_sequence, this generates 100 paragraphs of length 300\n",
    "    at each of various choices of k-gram size (see `ks_to_plot`). It then\n",
    "    returns the median, 25th quartile, and 75th quartile of the LCS's length\n",
    "    at each value of k.\n",
    "\n",
    "    More precisely, it should return a dictionary with the following shape:\n",
    "        {\n",
    "            \"medians\": np.array([numbers...]),\n",
    "            \"top_quartiles\": np.array([numbers...]),\n",
    "            \"bot_quartiles.\": np.array([numbers...])\n",
    "        }\n",
    "    Where top_quartiles is for the 75^th quartile, and bot_quartiles is for the 25^th quartile.\n",
    "\n",
    "    :param      word_sequence:  The book\n",
    "    :type       word_sequence:  List of string\n",
    "\n",
    "    :returns:   A dictionary with keys \"medians\", \"top_quartiles\",\n",
    "                \"bot_quartiles\", and values which are numpy vectors\n",
    "                with the same length as `ks_to_plot`.\n",
    "    :rtype:     Dict that maps string to numpy array\n",
    "    \"\"\"\n",
    "\n",
    "    n_trials = 100  # number of trials\n",
    "    gen_length_test = 300  # number of words to generate\n",
    "\n",
    "    lcs_lengths = np.zeros((len(ks_to_plot), n_trials))\n",
    "    lcs_finder = LcsFinder(word_sequence)\n",
    "\n",
    "    ## TODO: WRITE THIS CODE\n",
    "    ## It will be helpful to use np.quantile and np.median\n",
    "\n",
    "    for i, k in enumerate(ks_to_plot):\n",
    "        freq_dict = make_freq_dict(k, word_sequence)\n",
    "        for trial in range(n_trials):\n",
    "            \n",
    "            # pick a random (uniformly distributed) starting k-gram from the freq-dict.\n",
    "            start_kgram = random.choice(list(freq_dict.keys())).split()\n",
    "\n",
    "            #Generate a paragraph\n",
    "            gen_paragraph = predict_paragraph(start_kgram, k, freq_dict, gen_length_test)\n",
    "            \n",
    "            current_lcs_length = lcs_finder.lcs_length(gen_paragraph)\n",
    "\n",
    "            lcs_lengths[i][trial] = current_lcs_length\n",
    "\n",
    "    lcs_length_medians = np.median(lcs_lengths, axis=1) #get the median for each row (k value)\n",
    "    lcs_length_tops = np.quantile(lcs_lengths, q=0.75, axis=1) #get the 75th percentile value for each k value\n",
    "    lcs_length_bots = np.quantile(lcs_lengths, q=0.25, axis=1)\n",
    "\n",
    "    \n",
    "\n",
    "    return {\"medians\": lcs_length_medians, \"top_quartiles\": lcs_length_tops, \"bot_quartiles\": lcs_length_bots}"
   ]
  },
  {
   "cell_type": "code",
   "execution_count": 60,
   "id": "081c7b43",
   "metadata": {
    "id": "081c7b43"
   },
   "outputs": [
    {
     "data": {
      "text/plain": [
       "{'medians': array([  4. ,  13.5,  48. , 165. , 305. ]),\n",
       " 'top_quartiles': array([  5.  ,  15.25,  61.5 , 223.5 , 305.  ]),\n",
       " 'bot_quartiles': array([  4.,  11.,  39., 114., 227.])}"
      ]
     },
     "execution_count": 60,
     "metadata": {},
     "output_type": "execute_result"
    }
   ],
   "source": [
    "# For a pretty long text, like shakespeare, this still should not take more than 45 seconds.\n",
    "gen_lcs_statistics(shakespeare)"
   ]
  },
  {
   "cell_type": "markdown",
   "id": "-gpEO-M49X9U",
   "metadata": {
    "id": "-gpEO-M49X9U"
   },
   "source": [
    "---\n",
    "Having generated this data, let's plot how the LCS length depends on $k$.\n",
    "Write the below function, which should produce an image that looks roughly like the following image:\n",
    "\n",
    "<img src=\"https://drive.google.com/uc?id=1J9VlSFelSAwa2r7-jrPLUGKf5mTanFyn\"></img>\n",
    "\n",
    "Slight deviations in the colors, shapes, labels, and other aesthetics are fine, but the same information should be portrayed -- a clear median line with clear $25^{th}$ and $75^{th}$ quartiles. The title should also state what book is being used, and the axes should be labeled.\n",
    "\n",
    "<!-- the img tag is taken from this gdrive link: https://drive.google.com/file/d/1J9VlSFelSAwa2r7-jrPLUGKf5mTanFyn/view?usp=share_link -->\n"
   ]
  },
  {
   "cell_type": "code",
   "execution_count": 61,
   "id": "3e85f6a3",
   "metadata": {
    "id": "3e85f6a3"
   },
   "outputs": [],
   "source": [
    "def plot_lcs_statistics(word_sequence, book_title, lcs_stats):\n",
    "    \"\"\"\n",
    "    Given a book, it's title, and the LCS statistics generated by\n",
    "    `gen_lcs_statistics`, this renders a plot to visualize the statistics.\n",
    "\n",
    "    :param      word_sequence:  The book\n",
    "    :type       word_sequence:  List of string\n",
    "    :param      book_title:     The book's title\n",
    "    :type       book_title:     String\n",
    "    :param      lcs_stats:      The lcs statistics\n",
    "    :type       lcs_stats:      Dict that maps string to numpy array\n",
    "    \"\"\"\n",
    "\n",
    "    ## TODO: WRITE THIS CODE\n",
    "    ## Use plot() to render the median as one line\n",
    "    ## Use fill_between() to shade the area 25th and 75th quartiles with a low alpha value, like alpha=0.35\n",
    "\n",
    "    medians = lcs_stats[\"medians\"]\n",
    "    top_quartiles = lcs_stats[\"top_quartiles\"]\n",
    "    bot_quartiles = lcs_stats[\"bot_quartiles\"]\n",
    "\n",
    "    plt.plot(ks_to_plot, medians, label=\"Median LCS Length\", color=\"blue\")\n",
    "    plt.fill_between(ks_to_plot, bot_quartiles, top_quartiles, color=\"blue\", alpha=0.35, label=\"25th-75th quartiles\")\n",
    "    plt.title(f\"{book_title}: k-gram vs. length of Longest Common Substring (LCS)\")\n",
    "    plt.xlabel(\"k\")\n",
    "    plt.ylabel(\"LCS Length in Words\")\n",
    "    plt.legend()\n",
    "    plt.grid(True)\n",
    "    plt.show()\n"
   ]
  },
  {
   "cell_type": "code",
   "execution_count": 62,
   "id": "c2d0cd1a",
   "metadata": {
    "id": "c2d0cd1a"
   },
   "outputs": [
    {
     "data": {
      "image/png": "[encoded data removed]",
      "text/plain": [
       "<Figure size 640x480 with 1 Axes>"
      ]
     },
     "metadata": {},
     "output_type": "display_data"
    }
   ],
   "source": [
    "plot_lcs_statistics(wonderland, \"Alice in Wonderland\", gen_lcs_statistics(wonderland))"
   ]
  },
  {
   "cell_type": "markdown",
   "id": "3CsuB3ck-MQs",
   "metadata": {
    "id": "3CsuB3ck-MQs"
   },
   "source": [
    "Okay, wow. That grows really fast. Exponentially even $\\phantom{}^{\\dagger}$. This means that, at least for the relatively small amount of training data we used, we get a poor tradeoff between quality (large $k$) and creativity (small $k$).\n",
    "\n",
    "Maybe we were just unlucky with our choice of book?\n",
    "Write the next function, which plots LCS lengths for many books all at once.\n",
    "It should produce and output roughly like the following:\n",
    "\n",
    "<img src=\"https://drive.google.com/uc?id=1JJrx3K5I_9qdE8ozTEr2lfyD1eLVu4oU\"></img>\n",
    "\n",
    "Again, slight deviations aesthetics are fine, but the same information should be portrayed.\n",
    "\n",
    "<!-- the img tag is taken from this gdrive link: https://drive.google.com/file/d/1JJrx3K5I_9qdE8ozTEr2lfyD1eLVu4oU/view?usp=share_link -->\n",
    "\n",
    "\n",
    "---\n",
    "\n",
    "$\\phantom{}^{[\\dagger]}$_It's literally exponential. If you're curious, add `plt.yscale(\"log\")` to your plotting code to see this curve become close-to-linear, suggesting this literally grows at the rate $LCS \\approx e^{\\Theta(k)}$._"
   ]
  },
  {
   "cell_type": "code",
   "execution_count": 51,
   "id": "a9279df4",
   "metadata": {
    "id": "a9279df4"
   },
   "outputs": [],
   "source": [
    "shakes_stats = gen_lcs_statistics(shakespeare)\n",
    "metamorphosis_stats = gen_lcs_statistics(metamorphosis)\n",
    "wonderland_stats = gen_lcs_statistics(wonderland)\n",
    "monte_cristo_stats = gen_lcs_statistics(montecristo)"
   ]
  },
  {
   "cell_type": "code",
   "execution_count": 56,
   "id": "93f0a267",
   "metadata": {
    "id": "93f0a267"
   },
   "outputs": [],
   "source": [
    "plot_colors = [\"#009292\", \"#FF6DB6\", \"#490092\", \"#006DDB\", \"#B66DFF\", \"#6DB6FF\", \"#B6DBFF\", \"#920000\", \"#924900\", \"#DB6D00\", \"#24FF24\", \"#FFFF6D\"]\n",
    "\n",
    "def plot_many_lcs_statistics(list_of_dicts):\n",
    "    \"\"\"\n",
    "    Given a list of dicts, each with a book title, and the LCS statistics\n",
    "    generated by `gen_lcs_statistics`, this renders a plot to visualize the statistics.\n",
    "\n",
    "    The given dicts have the following shape, with these exact keys:\n",
    "        {\n",
    "            \"book_name\": string,\n",
    "            \"stats\": output of plot_lcs_statistics()\n",
    "        }\n",
    "\n",
    "    :param      list_of_dicts:  A list of dicts\n",
    "    :type       list_of_dicts:  List of dict\n",
    "    \"\"\"\n",
    "    fig, ax = plt.subplots()\n",
    "\n",
    "    ## TODO: WRITE THIS CODE\n",
    "    ## The same basic idea as the last plot, but with many series overlaid. Make alpha=0.15 for the fill to keep the image legible.\n",
    "    ## Use some subset of the list of colors at the top -- they are a visually nice set of colorblind-safe colors.\n",
    "\n",
    "    for i, book_dict in enumerate(list_of_dicts):\n",
    "        book_name = book_dict[\"book_name\"]\n",
    "        lcs_stats = book_dict[\"stats\"]\n",
    "\n",
    "        medians = lcs_stats[\"medians\"]\n",
    "        top_quartiles = lcs_stats[\"top_quartiles\"]\n",
    "        bot_quartiles = lcs_stats[\"bot_quartiles\"]\n",
    "\n",
    "        plot_color = plot_colors[i]\n",
    "\n",
    "        ax.plot(ks_to_plot, medians, label=book_name, color=plot_color)\n",
    "        ax.fill_between(ks_to_plot, bot_quartiles, top_quartiles, color=plot_color, alpha=0.15)\n",
    "    \n",
    "    ax.set_title(\"k-gram vs. length of LCS\")\n",
    "    ax.set_xlabel(\"k\")\n",
    "    ax.set_ylabel(\"LCS Length in Words\")\n",
    "    ax.legend()\n",
    "    ax.grid(True)\n",
    "    plt.show()"
   ]
  },
  {
   "cell_type": "code",
   "execution_count": 57,
   "id": "CQGQXSwBkWQL",
   "metadata": {
    "id": "CQGQXSwBkWQL"
   },
   "outputs": [
    {
     "data": {
      "image/png": "[encoded data removed]",
      "text/plain": [
       "<Figure size 640x480 with 1 Axes>"
      ]
     },
     "metadata": {},
     "output_type": "display_data"
    }
   ],
   "source": [
    "plot_many_lcs_statistics(\n",
    "    [\n",
    "        {\n",
    "            \"book_name\": \"All of Shakespeare\",\n",
    "            \"stats\": shakes_stats\n",
    "        }, {\n",
    "            \"book_name\": \"Metamorphosis\",\n",
    "            \"stats\": metamorphosis_stats\n",
    "        }, {\n",
    "            \"book_name\": \"Alice in Wonderland\",\n",
    "            \"stats\": wonderland_stats\n",
    "        }, {\n",
    "            \"book_name\": \"Monte Cristo\",\n",
    "            \"stats\": monte_cristo_stats\n",
    "        }\n",
    "    ]\n",
    ")"
   ]
  },
  {
   "cell_type": "markdown",
   "id": "ylrdQcQWBuOt",
   "metadata": {
    "id": "ylrdQcQWBuOt"
   },
   "source": [
    "---\n",
    "\n",
    "So while some books are a bit better than others, they still all seem to grow at an exponential rate. Improving upon this will with require a better model (we will discuss some later in the course), a lot more training data, or idealy both.\n",
    "\n",
    "---\n",
    "\n",
    "# 4.  (Bonus Question -- 2 points) Can you improve our model?\n",
    "\n",
    "Code up a modification of our simple $k$-gram model that produces decent text (e.g. better than the 2-gram model) but copies less. To get bonus credit, post a screenshot of your generated text on Ed, using any Project Gutenberg book as the input data. Highlight the text with `LcsFinder` to highlight long common substrings. In your post, add a brief description of how you modified the model.\n",
    "\n",
    "Think creatively! You are also free to look online for different modifications and technique other people have use, but your lab report should (informally) cite whatever sources you used.\n"
   ]
  },
  {
   "cell_type": "code",
   "execution_count": null,
   "id": "QwoKRhQyE9gm",
   "metadata": {
    "id": "QwoKRhQyE9gm"
   },
   "outputs": [
    {
     "data": {
      "text/markdown": [
       "<font color=#009292>larger again, and she thought at first she would get up and leave the court; but on second thoughts she decided to remain where she was as long as there was room for her. “I wish you wouldn’t squeeze so.” said the Dormouse, who was sitting next to her. “I can hardly breathe.” “I can’t help it,” said Alice very meekly: “I’m growing.” “You’ve no right to grow _here_,” said the Dormouse. “Don’t talk nonsense,” said Alice more boldly: “you know you’re growing too.” “Yes, but _I_ grow at a reasonable pace,” said the Dormouse: “not in that ridiculous fashion.” And he got up very sulkily and crossed over to the other side of the court. All this time the Queen had never left off staring at the Hatter, and, just as the Dormouse crossed the court, she said to one of the</font> <font color=#FF6DB6>officers: but the Hatter was out of sight before the officer could get to the door. “Call the next witness!” said the King. The</font> <font color=#490092>White Rabbit put on his spectacles. “Where shall I begin, please your Majesty?” he asked. “Begin at the beginning,” the King said gravely, “and go on till you come to the</font> <font color=#006DDB>beginning again?” Alice ventured to ask. “Suppose we change the subject,” the March Hare interrupted, yawning. “I’m getting tired of this. I vote the young lady tells us a story.” “I’m afraid I don’t know one,” said Alice, rather alarmed at the proposal. “Then the Dormouse shall!” they both cried. “Wake up, Dormouse!” And they pinched it on both sides at once. The Dormouse slowly opened his eyes. “I wasn’t asleep,” he said in a</font> <font color=#B66DFF>very respectful tone, but frowning and making faces at him as he spoke. “_Un_important, of course, I meant,” the King hastily said, and went on to himself in an undertone, “important—unimportant—unimportant—important—” as if he were trying which word sounded best. Some of the jury wrote it down “important,” and some “unimportant.” Alice could see this, as she was near enough to look over their slates; “but it doesn’t matter a bit,” she thought to herself. At this moment the</font> <font color=#920000>door of the house opened, and a large plate came skimming out, straight at the Footman’s head: it just grazed his nose, and broke to pieces against one of the trees</font> <font color=#DB6D00>had a door leading right into it. “That’s very curious!” she thought. “But everything’s curious today. I think I may as well go in at once.” And in she went. Once more she found herself in</font> <font color=#009292>a long, low hall, which was lit up by a row of lamps hanging from the roof. There were doors all round the hall, but they were all locked; and when Alice had been all the way down one side and up the other, trying every door, she walked sadly down the middle, wondering how she was ever to get out again. Suddenly she came upon a</font> <font color=#FF6DB6>low curtain she had not noticed before, and behind it was a little door about fifteen inches high:</font> "
      ],
      "text/plain": [
       "<IPython.core.display.Markdown object>"
      ]
     },
     "metadata": {},
     "output_type": "display_data"
    }
   ],
   "source": [
    "# Write any code used for answering the bonus questions here\n",
    "Bonus_LCS_finder = LcsFinder(wonderland)\n",
    "\n",
    "# Pick k and make a frequency dictionary from Wonderland.\n",
    "k_bonus = 4\n",
    "freq_dict_bonus = make_freq_dict(k_bonus, wonderland)\n",
    "\n",
    "# pick a random (uniformly distributed) starting k-gram from the freq-dict.\n",
    "start_kgram = random.choice(list(freq_dict_bonus.keys())).split()\n",
    "\n",
    "# Generate a paragraph, and print it.\n",
    "gen_paragraph = predict_paragraph(start_kgram, k_bonus, freq_dict_bonus, gen_length=500)\n",
    "\" \".join(gen_paragraph)\n",
    "\n",
    "Bonus_LCS_finder.greedy_lcs_markdown(gen_paragraph)\n"
   ]
  }
 ],
 "metadata": {
  "colab": {
   "provenance": [
    {
     "file_id": "1-r0uD47qbSb2DuV-T0Xl2SOX7cKVUqPl",
     "timestamp": 1676938310608
    }
   ]
  },
  "kernelspec": {
   "display_name": "Python 3",
   "language": "python",
   "name": "python3"
  },
  "language_info": {
   "codemirror_mode": {
    "name": "ipython",
    "version": 3
   },
   "file_extension": ".py",
   "mimetype": "text/x-python",
   "name": "python",
   "nbconvert_exporter": "python",
   "pygments_lexer": "ipython3",
   "version": "3.12.5"
  }
 },
 "nbformat": 4,
 "nbformat_minor": 5
}
