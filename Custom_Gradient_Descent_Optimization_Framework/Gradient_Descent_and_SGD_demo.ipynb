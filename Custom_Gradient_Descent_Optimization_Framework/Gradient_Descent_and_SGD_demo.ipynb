{
 "cells": [
  {
   "cell_type": "markdown",
   "metadata": {
    "id": "zApLHSM2ZGPO"
   },
   "source": [
    "# Implementing Gradient Descent and Stochastic Gradient Descent Optimization Algorithms from Scratch\n",
    "\n",
    "Typically machine learning practioners use a library like `sklearn` and its built-in class `LogisticRegression` to find the weights for the logistic regression problem.   The `fit` routine in that class has an *optimizer* to select the weights to best match the data (i.e. minimizes the training loss). \n",
    "\n",
    "In this project the goal is to understand how an optimizer, like the one inside the `LogisticRegression` class works. Within this project a very simple gradient descent optimizer is built from scratch.\n",
    "\n",
    "The project has the following goals:\n",
    "\n",
    "* Computing the gradients of a loss function and implementing the gradient calculations in Python\n",
    "* Implement a simple gradient descent optimizer\n",
    "* Visualize the effect of the learning rate in gradient descent\n",
    "* Implement an adaptive learning rate algorithm\n",
    "* Add regularization to the loss minimization problem\n",
    "* Try out different black-box optimizers in Python"
   ]
  },
  {
   "cell_type": "markdown",
   "metadata": {
    "id": "CGZeQUE4ZGPQ"
   },
   "source": [
    "## 1. Loading the Breast Cancer Dataset\n",
    "\n",
    "The dataset used in this project is the Breast Cancer Wisconsin (Original) Data Set,\n",
    "a widely used benchmark for binary classification in medical diagnostics. Each sample\n",
    "represents a fine needle aspirate (FNA) of a breast mass, with features describing\n",
    "characteristics of the cell nuclei present in the image.\n",
    "\n",
    "**Features:** There are nine predictive features, all integer-valued in the range 1–10,\n",
    "representing:\n",
    "  - Clump Thickness (`thick`)\n",
    "  - Uniformity of Cell Size (`size_unif`)\n",
    "  - Uniformity of Cell Shape (`shape_unif`)\n",
    "  - Marginal Adhesion (`marg`)\n",
    "  - Single Epithelial Cell Size (`cell_size`)\n",
    "  - Bare Nuclei (`bare`)\n",
    "  - Bland Chromatin (`chrom`)\n",
    "  - Normal Nucleoli (`normal`)\n",
    "  - Mitoses (`mit`)\n",
    "An additional column (`id`) is a sample identifier and is not used for prediction.\n",
    "\n",
    "\n",
    "**Labels:** The target variable (`class`) is categorical:\n",
    "  - 2 = Benign\n",
    "  - 4 = Malignant\n",
    "For modeling, these are converted to binary labels: 0 for benign, 1 for malignant.\n",
    "\n",
    "**Citation:**\n",
    "W.N. Street, W.H. Wolberg and O.L. Mangasarian. \"Nuclear feature extraction for breast tumor diagnosis.\"\n",
    "IS&T/SPIE 1993 International Symposium on Electronic Imaging: Science and Technology, volume 1905, 861-870, 1993.\n",
    "UCI Machine Learning Repository: https://archive.ics.uci.edu/ml/datasets/breast+cancer+wisconsin+(original)\n",
    "\n",
    "\n"
   ]
  },
  {
   "cell_type": "code",
   "execution_count": 2,
   "metadata": {
    "id": "tucthocjZGPR"
   },
   "outputs": [],
   "source": [
    "import numpy as np\n",
    "import matplotlib.pyplot as plt\n",
    "import pandas as pd\n",
    "%matplotlib inline\n"
   ]
  },
  {
   "cell_type": "markdown",
   "metadata": {
    "id": "JseGFNPNZGPR"
   },
   "source": [
    "Next load the data from the BCW dataset"
   ]
  },
  {
   "cell_type": "code",
   "execution_count": 3,
   "metadata": {
    "id": "hdvK-usLZGPR"
   },
   "outputs": [
    {
     "data": {
      "text/html": [
       "<div>\n",
       "<style scoped>\n",
       "    .dataframe tbody tr th:only-of-type {\n",
       "        vertical-align: middle;\n",
       "    }\n",
       "\n",
       "    .dataframe tbody tr th {\n",
       "        vertical-align: top;\n",
       "    }\n",
       "\n",
       "    .dataframe thead th {\n",
       "        text-align: right;\n",
       "    }\n",
       "</style>\n",
       "<table border=\"1\" class=\"dataframe\">\n",
       "  <thead>\n",
       "    <tr style=\"text-align: right;\">\n",
       "      <th></th>\n",
       "      <th>id</th>\n",
       "      <th>thick</th>\n",
       "      <th>size_unif</th>\n",
       "      <th>shape_unif</th>\n",
       "      <th>marg</th>\n",
       "      <th>cell_size</th>\n",
       "      <th>bare</th>\n",
       "      <th>chrom</th>\n",
       "      <th>normal</th>\n",
       "      <th>mit</th>\n",
       "      <th>class</th>\n",
       "    </tr>\n",
       "  </thead>\n",
       "  <tbody>\n",
       "    <tr>\n",
       "      <th>0</th>\n",
       "      <td>1000025</td>\n",
       "      <td>5</td>\n",
       "      <td>1</td>\n",
       "      <td>1</td>\n",
       "      <td>1</td>\n",
       "      <td>2</td>\n",
       "      <td>1.0</td>\n",
       "      <td>3</td>\n",
       "      <td>1</td>\n",
       "      <td>1</td>\n",
       "      <td>2</td>\n",
       "    </tr>\n",
       "    <tr>\n",
       "      <th>1</th>\n",
       "      <td>1002945</td>\n",
       "      <td>5</td>\n",
       "      <td>4</td>\n",
       "      <td>4</td>\n",
       "      <td>5</td>\n",
       "      <td>7</td>\n",
       "      <td>10.0</td>\n",
       "      <td>3</td>\n",
       "      <td>2</td>\n",
       "      <td>1</td>\n",
       "      <td>2</td>\n",
       "    </tr>\n",
       "    <tr>\n",
       "      <th>2</th>\n",
       "      <td>1015425</td>\n",
       "      <td>3</td>\n",
       "      <td>1</td>\n",
       "      <td>1</td>\n",
       "      <td>1</td>\n",
       "      <td>2</td>\n",
       "      <td>2.0</td>\n",
       "      <td>3</td>\n",
       "      <td>1</td>\n",
       "      <td>1</td>\n",
       "      <td>2</td>\n",
       "    </tr>\n",
       "    <tr>\n",
       "      <th>3</th>\n",
       "      <td>1016277</td>\n",
       "      <td>6</td>\n",
       "      <td>8</td>\n",
       "      <td>8</td>\n",
       "      <td>1</td>\n",
       "      <td>3</td>\n",
       "      <td>4.0</td>\n",
       "      <td>3</td>\n",
       "      <td>7</td>\n",
       "      <td>1</td>\n",
       "      <td>2</td>\n",
       "    </tr>\n",
       "    <tr>\n",
       "      <th>4</th>\n",
       "      <td>1017023</td>\n",
       "      <td>4</td>\n",
       "      <td>1</td>\n",
       "      <td>1</td>\n",
       "      <td>3</td>\n",
       "      <td>2</td>\n",
       "      <td>1.0</td>\n",
       "      <td>3</td>\n",
       "      <td>1</td>\n",
       "      <td>1</td>\n",
       "      <td>2</td>\n",
       "    </tr>\n",
       "  </tbody>\n",
       "</table>\n",
       "</div>"
      ],
      "text/plain": [
       "        id  thick  size_unif  shape_unif  marg  cell_size  bare  chrom  \\\n",
       "0  1000025      5          1           1     1          2   1.0      3   \n",
       "1  1002945      5          4           4     5          7  10.0      3   \n",
       "2  1015425      3          1           1     1          2   2.0      3   \n",
       "3  1016277      6          8           8     1          3   4.0      3   \n",
       "4  1017023      4          1           1     3          2   1.0      3   \n",
       "\n",
       "   normal  mit  class  \n",
       "0       1    1      2  \n",
       "1       2    1      2  \n",
       "2       1    1      2  \n",
       "3       7    1      2  \n",
       "4       1    1      2  "
      ]
     },
     "execution_count": 3,
     "metadata": {},
     "output_type": "execute_result"
    }
   ],
   "source": [
    "names = ['id','thick','size_unif','shape_unif','marg','cell_size','bare',\n",
    "         'chrom','normal','mit','class']\n",
    "df = pd.read_csv('https://archive.ics.uci.edu/ml/machine-learning-databases/' +\n",
    "                 'breast-cancer-wisconsin/breast-cancer-wisconsin.data',\n",
    "                names=names,na_values='?',header=None)\n",
    "df = df.dropna()\n",
    "df.head()"
   ]
  },
  {
   "cell_type": "markdown",
   "metadata": {
    "id": "_mRvBdd0ZGPS"
   },
   "source": [
    "Create a data matrix `X` of various features of the breast cancer sample. Also create the response vector `y` with binary elements indicating if each sample is benign or malignant.  "
   ]
  },
  {
   "cell_type": "code",
   "execution_count": 4,
   "metadata": {
    "id": "pnWddvTCZGPT"
   },
   "outputs": [],
   "source": [
    "# Get the predictors\n",
    "xnames = ['thick','size_unif','shape_unif','marg','cell_size','bare',\n",
    "         'chrom','normal','mit']\n",
    "Xraw = np.array(df[xnames])\n",
    "# Append an all ones vector onto X to serve as the intercept feature\n",
    "X = np.concatenate((np.ones((Xraw.shape[0],1)),Xraw),axis=1)\n",
    "\n",
    "# Get the response.  Convert to a zero-one indicator\n",
    "yraw = np.array(df['class'])\n",
    "BEN_VAL = 2   # value in the 'class' label for benign samples\n",
    "MAL_VAL = 4   # value in the 'class' label for malignant samples\n",
    "y = (yraw == MAL_VAL).astype(int) # now y has values of 0,1; 1 for malignant, 0 for benign\n",
    "Iben = (y==0) #boolean mask (array) with 1's for benign samples\n",
    "Imal = (y==1) #boolean mask (array) with 1's for malignant samples\n"
   ]
  },
  {
   "cell_type": "markdown",
   "metadata": {
    "id": "p6sl-AhrZGPT"
   },
   "source": [
    "We want to learn the classification rule to predict `y` from `X`.  We will do so with logistic regression."
   ]
  },
  {
   "cell_type": "markdown",
   "metadata": {
    "id": "k_BvqUD7ZGPT"
   },
   "source": [
    "## 2. Computing the Gradient and Loss Function\n",
    "\n",
    "\n",
    "This section implements the core mathematical components required for training a logistic regression model through gradient-based optimization. The binary classification rule is defined by a weight vector $\\beta$ such that:\n",
    "\n",
    "* A data vector $\\vec{x}$ is classified as positive (1) when $\\vec{x}^T\\vec{\\beta} > 0$\n",
    "* A data vector $\\vec{x}$ is classified as negative (0) when $\\vec{x}^T\\vec{\\beta} \\leq 0$\n",
    "\n",
    "The sigmoid function $h_{\\vec{\\beta}}(\\vec{x}) = \\frac{1}{1 + e^{-\\vec{x}^T\\vec{\\beta}}}$ transforms the linear combination into a probability. The optimal $\\beta$ is found by minimizing the binary cross-entropy loss function (aka logistic loss function):\n",
    "\n",
    "\n",
    "$$\n",
    "L(\\vec{\\beta}) = - \\sum_{i=1}^n y_i \\log(h_{\\vec{\\beta}}(\\vec{x}_i)) + (1-y_i) \\log(1-h_{\\vec{\\beta}}(\\vec{x}_i)).\n",
    "$$\n",
    "\n",
    "**Numerical Stability Considerations:** The standard cross-entropy formulation can exhibit numerical instability when computing logarithms of values near zero, potentially resulting in NaN values due to finite precision arithmetic limitations. To address this, we employ a mathematically equivalent but numerically stable alternative:\n",
    "\n",
    "\n",
    "### Numerical Stabilty Consideration: Adjusting the Cross-Entropy Loss Function\n",
    "One issue with the standard cross-entropy formulation above for $L$ is that it can exhibit *numerical instability*. Essentially what can happen is you end up taking logs of numbers very close to zero and Python will return NaNs due to issues with using finite precision arithmetic. To deal with this problem, an alternative expression for `L` is provided. This alternative expression  is *mathematically equivalent* but can be computed more accurately in finite precision arithmetic:\n",
    "$$\n",
    "L(\\vec{\\beta}) = \\sum_{i=1}^n (1-y_i)(\\vec{x}_i^T\\vec{\\beta}) - \\log(h_{\\vec{\\beta}}(\\vec{x}_i)).\n",
    "$$\n",
    "\n",
    "**Gradient Computation:** The gradient of the loss function with respect to $\\beta$ is analytically derived as:\n",
    "\n",
    "$$\n",
    "\\nabla L(\\vec{\\beta}) = \\mathbf{X}^T(h_{\\vec{\\beta}}(\\mathbf{X}) - y)\n",
    "$$\n",
    "\n",
    "where $h_{\\vec{\\beta}}(\\mathbf{X})$ represents the vector of sigmoid outputs applied to each row of the feature matrix $\\mathbf{X}$\n",
    "    \n",
    "    \n",
    "**Implementation Notes:** While the logistic loss function is differentiable and its gradient can be explicitly computed, the equation $\\nabla L(\\boldsymbol{\\beta}) = 0$ cannot be solved algebraically for a closed-form solution. This necessitates the use of iterative optimization methods such as gradient descent.\n",
    "\n",
    "The following implementation computes both the loss value and its gradient efficiently for use in optimization algorithms."
   ]
  },
  {
   "cell_type": "code",
   "execution_count": 5,
   "metadata": {
    "id": "lo-aKVsLZGPU"
   },
   "outputs": [],
   "source": [
    "def Leval(beta,X,y):\n",
    "    \"\"\"\n",
    "    Compute the loss and gradient given beta,X,y\n",
    "    \"\"\"\n",
    "    z = X@beta\n",
    "    h = 1/(1+np.exp(-z))\n",
    "    L = np.sum((1-y)*z - np.log(h))\n",
    "\n",
    "    # Gradient\n",
    "    Lgrad = (X.T)@(h-y)\n",
    "    return L, Lgrad"
   ]
  },
  {
   "cell_type": "markdown",
   "metadata": {
    "id": "QRBlTQPEZGPU"
   },
   "source": [
    "Test the `Leval` function on a random parameter vector $\\vec{\\beta}_0$."
   ]
  },
  {
   "cell_type": "code",
   "execution_count": 6,
   "metadata": {
    "id": "4d-xoSX7ZGPV"
   },
   "outputs": [],
   "source": [
    "# Some random point\n",
    "p = X.shape[1]\n",
    "beta0 = np.random.randn(p) # creates a p-dimensional random vector where each element is drawn from a normal distribution with mean 0 and variance 1\n",
    "\n",
    "# Call the function\n",
    "L, Lgrad = Leval(beta0,X,y)"
   ]
  },
  {
   "cell_type": "code",
   "execution_count": 7,
   "metadata": {
    "id": "ndyJcp3hZGPZ"
   },
   "outputs": [],
   "source": [
    "# Create a function with X,y fixed in order to reflect a standard gradient and loss calculation interface for a numerical optimizer\n",
    "Leval_param = lambda beta: Leval(beta,X,y) # lambda function creates a closure fixing X and y at the time of lambda function definition\n",
    "\n",
    "# You can now pass a parameter like w0\n",
    "L0, Lgrad0 = Leval_param(beta0)"
   ]
  },
  {
   "cell_type": "markdown",
   "metadata": {
    "id": "2rYggsePZGPZ"
   },
   "source": [
    "### Gradient Verification\n",
    "\n",
    "It is essential to rigorously verify the correctness of any custom gradient implementation. Incorrect gradients are a common source of failure when using numerical optimization algorithms. A standard approach is to select two parameter vectors, `beta0` and `beta1`, that are close to each other, and confirm that the following first-order Taylor approximation holds:\n",
    "\n",
    "$$\n",
    "L(\\vec{\\beta}_1) - L(\\vec{\\beta}_0) \\approx \\langle \\nabla L(\\vec{\\beta}_0), \\vec{\\beta}_1 - \\vec{\\beta}_0\\rangle.\n",
    "$$\n",
    "\n",
    "This check provides strong evidence that the analytical gradient matches the true local behavior of the loss function."
   ]
  },
  {
   "cell_type": "code",
   "execution_count": 8,
   "metadata": {
    "id": "lcYXo_CXZGPZ"
   },
   "outputs": [
    {
     "name": "stdout",
     "output_type": "stream",
     "text": [
      "Actual L1-L0    =   2.0057e-03\n",
      "Predicted L1-L0 =   2.0057e-03\n"
     ]
    }
   ],
   "source": [
    "# Take a random initial point\n",
    "p = X.shape[1]\n",
    "beta0 = np.random.randn(p)\n",
    "\n",
    "# Perturb the point\n",
    "step = 1e-6\n",
    "beta1 = beta0 + step*np.random.randn(p)\n",
    "\n",
    "# Measure the function and gradient at w0 and w1\n",
    "L0, Lgrad0 = Leval_param(beta0)\n",
    "L1, Lgrad1 = Leval_param(beta1)\n",
    "\n",
    "# Predict the amount the function should have changed based on the gradient\n",
    "dL_est = Lgrad0.T@(beta1-beta0)\n",
    "\n",
    "# Print the two values to see if they are close\n",
    "print(\"Actual L1-L0    = %12.4e\" % (L1-L0))\n",
    "print(\"Predicted L1-L0 = %12.4e\" % dL_est)"
   ]
  },
  {
   "cell_type": "markdown",
   "metadata": {
    "id": "fZucpF0DZGPZ"
   },
   "source": [
    "Above we have confirmed the actual difference in loss between $\\beta_0$ and $\\beta_1$ and the first-order approximation are almost exactly equal (exactly equal in this case of the numerical precision of host machine running this original notebook). Even if the block is ran multiple times to get different answers (due to the random choice of $\\beta_0$), there is always agreement."
   ]
  },
  {
   "cell_type": "markdown",
   "metadata": {
    "id": "rjOVKke8ZGPb"
   },
   "source": [
    "## 3. A Simple Gradient Descent Optimizer\n",
    "\n",
    "Below is a simple gradient descent optimizer function with a fixed learning rate."
   ]
  },
  {
   "cell_type": "code",
   "execution_count": 9,
   "metadata": {
    "id": "Zzs3XqaBZGPb"
   },
   "outputs": [],
   "source": [
    "def grad_opt_simp(grad_func, beta0, lr=1e-3,nit=1000):\n",
    "    \"\"\"\n",
    "    Simple gradient descent optimization\n",
    "\n",
    "    grad_func:  A function that returns the objective function L, and its gradient Leval\n",
    "    beta0:  Initial estimate for parameters beta\n",
    "    lr:     learning rate\n",
    "    nit:    Number of iterations\n",
    "    \"\"\"\n",
    "\n",
    "    # Create history dictionary for tracking progress per iteration.\n",
    "    # This isn't necessary if you just want the final answer\n",
    "    # useful for debugging\n",
    "    hist = {'beta': [], 'L': []}\n",
    "\n",
    "    # initialize\n",
    "    beta = beta0\n",
    "\n",
    "    # Loop over iterations\n",
    "    for it in range(nit):\n",
    "\n",
    "        # Evaluate the function and gradient\n",
    "        L, Lgrad = grad_func(beta)\n",
    "\n",
    "        # Take a gradient step\n",
    "        beta = beta - lr*Lgrad\n",
    "\n",
    "         # Save history\n",
    "        hist['L'].append(L)\n",
    "        hist['beta'].append(beta)\n",
    "\n",
    "    # Convert to numpy arrays\n",
    "    for elem in ('L', 'beta'):\n",
    "        hist[elem] = np.array(hist[elem])\n",
    "    return beta, L, hist"
   ]
  },
  {
   "cell_type": "markdown",
   "metadata": {
    "id": "kM24nQLJZGPb"
   },
   "source": [
    "Test the gradient descent optimizer starting from an initial condition of $\\vec{\\beta}_0 = \\vec{0}$."
   ]
  },
  {
   "cell_type": "code",
   "execution_count": 10,
   "metadata": {
    "id": "l_38PBurZGPb",
    "scrolled": true
   },
   "outputs": [
    {
     "data": {
      "image/png": "[encoded data removed]",
      "text/plain": [
       "<Figure size 640x480 with 1 Axes>"
      ]
     },
     "metadata": {},
     "output_type": "display_data"
    }
   ],
   "source": [
    "# Initial condition\n",
    "beta0 = np.zeros(p)\n",
    "\n",
    "# Parameters\n",
    "nit = 2000\n",
    "lr = 1e-5  #small learning rate then parameter default\n",
    "\n",
    "# Run the gradient descent\n",
    "beta, L, hist = grad_opt_simp(Leval_param, beta0, lr=lr, nit=nit)\n",
    "\n",
    "# Plot the training loss\n",
    "t = np.arange(nit)\n",
    "plt.plot(t, hist['L'])\n",
    "plt.title('Training Loss vs Iterations')\n",
    "plt.xlabel('Iterations')\n",
    "plt.ylabel('Training Loss')\n",
    "plt.grid()"
   ]
  },
  {
   "cell_type": "markdown",
   "metadata": {
    "id": "ndmFpjJgZGPb"
   },
   "source": [
    " Create a predict method to measure the accuracy of the final estimated optimal parameter vector $\\beta$."
   ]
  },
  {
   "cell_type": "code",
   "execution_count": null,
   "metadata": {
    "id": "cwC1hMpcZGPb"
   },
   "outputs": [],
   "source": [
    "def predict(X,beta):\n",
    "    z = X@beta\n",
    "    yhat = (z > 0)\n",
    "    return (1*yhat) #multiplying by 1 converts each True/Fasle in the boolean array to 1/0"
   ]
  },
  {
   "cell_type": "code",
   "execution_count": null,
   "metadata": {
    "id": "3QEGqP1VZGPb",
    "scrolled": true
   },
   "outputs": [
    {
     "name": "stdout",
     "output_type": "stream",
     "text": [
      "Train accuracy = 0.941435\n"
     ]
    }
   ],
   "source": [
    "yhat = predict(X,beta)\n",
    "acc = np.mean(yhat == y) # True Postive / (True Postive + False Negative)\n",
    "print(\"Train accuracy = %f\" % acc)"
   ]
  },
  {
   "cell_type": "markdown",
   "metadata": {
    "id": "xDqQgujwZGPb"
   },
   "source": [
    "The accuracy  is not quite up to industry-standards (like usuing optimizers from `sklearn`) because the learning rate was somewhat slow (too small) and the aboce optimization loop didn't yet achieve full convergence.\n",
    "\n",
    "To see the effect of the learning rate, the code below tries different learning rates."
   ]
  },
  {
   "cell_type": "code",
   "execution_count": 22,
   "metadata": {
    "id": "ROLK-7vsZGPb"
   },
   "outputs": [
    {
     "name": "stdout",
     "output_type": "stream",
     "text": [
      "lr=    1.00e-05  Train accuracy = 0.941435\n",
      "lr=    1.00e-04  Train accuracy = 0.969253\n",
      "lr=    1.00e-03  Train accuracy = 0.970717\n",
      "lr=    1.00e-02  Train accuracy = 0.964861\n"
     ]
    },
    {
     "data": {
      "text/plain": [
       "<matplotlib.legend.Legend at 0x2ae2d5e58e0>"
      ]
     },
     "execution_count": 22,
     "metadata": {},
     "output_type": "execute_result"
    },
    {
     "data": {
      "image/png": "[encoded data removed]",
      "text/plain": [
       "<Figure size 640x480 with 1 Axes>"
      ]
     },
     "metadata": {},
     "output_type": "display_data"
    }
   ],
   "source": [
    "# Learning rate values to test\n",
    "lr_test = [1e-5,1e-4,1e-3, 1e-2]\n",
    "ntest = len(lr_test)\n",
    "\n",
    "# Strings for the legend\n",
    "leg_str = []\n",
    "\n",
    "# p ia a random initial point\n",
    "# p = X.shape[1]\n",
    "# p = 10\n",
    "\n",
    "beta0 = np.zeros(p)\n",
    "for i in range(ntest):\n",
    "    # Run the optimizer\n",
    "    beta, L, hist = grad_opt_simp(Leval_param, beta0, lr=lr_test[i], nit=nit)\n",
    "\n",
    "    # Plot the results\n",
    "    plt.semilogy(t, hist['L'])\n",
    "    leg_str.append(\"lr=%12.2e\" % lr_test[i])\n",
    "\n",
    "    # Measure the train accuracy\n",
    "    yhat = predict(X,beta)\n",
    "    acc = np.mean(yhat == y)\n",
    "    print(\"lr=%12.2e  Train accuracy = %f\" % (lr_test[i], acc))\n",
    "\n",
    "plt.grid()\n",
    "plt.legend(leg_str, loc='upper right')"
   ]
  },
  {
   "cell_type": "markdown",
   "metadata": {
    "id": "CWfssuxlZGPb"
   },
   "source": [
    "From above: increasing the learning rate, speeds the convergence time, but the optimization begins to go unstable. It recovers from this instability for learning rate `1e-3`, but running with rate `1e-2` leads to more instability and a covergence to a higher minimum loss value (likely a local minimum on the loss surface)."
   ]
  },
  {
   "cell_type": "markdown",
   "metadata": {
    "id": "RsbTrJvrZGPb"
   },
   "source": [
    "## 4. Implementing Adaptive Step Size\n",
    "\n",
    "The above example shows that gradient descent is sensitive to the step size.  In order to deal with this issue a variant of gradient descent with an adaptive step-size using the Armijo rule is developed below."
   ]
  },
  {
   "cell_type": "code",
   "execution_count": null,
   "metadata": {
    "id": "QUw5uoqLZGPc"
   },
   "outputs": [],
   "source": [
    "def grad_opt_adapt(grad_func, beta0, nit=2000, lr_init=1e-3):\n",
    "    \"\"\"\n",
    "    Gradient descent optimization with adaptive step size\n",
    "\n",
    "    feval:  A function that returns f, fgrad, the objective\n",
    "            function and its gradient\n",
    "    beta0:  Initial estimate\n",
    "    nit:    Number of iterations\n",
    "    lr_init:     Initial learning rate\n",
    "    \"\"\"\n",
    "\n",
    "    # Set initial point\n",
    "    beta = beta0\n",
    "    lr = lr_init\n",
    "\n",
    "    # Create history dictionary for tracking progress per iteration.\n",
    "    # not necessary for the final answer\n",
    "    # is useful for debugging\n",
    "    hist = {'lr': [], 'beta': [], 'L': []}\n",
    "\n",
    "    L,Lgrad = grad_func(beta0) # returns the loss and the gradient (of the Loss w.r.t. beta) evaluated at initial beta\n",
    "    for it in range(nit):\n",
    "\n",
    "        # Take a gradient step\n",
    "        beta1 = beta - lr*Lgrad\n",
    "\n",
    "        # Evaluate the test point (test/current beta) by computing the objective function, L1,\n",
    "        # at the test point and the predicted decrease, df_est\n",
    "        L1, Lgrad1 = grad_func(beta1)\n",
    "        df_est = Lgrad.T@(beta1-beta)\n",
    "\n",
    "        # Check if test point passes the Armijo condition\n",
    "        alpha = 0.5\n",
    "        if (L1-L < alpha*df_est) and (L1 < L):\n",
    "            # If descent is sufficient(if the actual deecrease is less than (more negative) then half the predicted decrease), accept the point and increase the learning rate\n",
    "            lr = lr*2 # \n",
    "            L = L1\n",
    "            Lgrad = Lgrad1\n",
    "            beta = beta1\n",
    "        else:\n",
    "            # Otherwise, decrease the learning rate\n",
    "            lr = lr/2\n",
    "\n",
    "        # Save history\n",
    "        hist['L'].append(L)\n",
    "        hist['lr'].append(lr)\n",
    "        hist['beta'].append(beta)\n",
    "\n",
    "    # Convert to numpy arrays\n",
    "    for elem in ('L', 'lr', 'beta'):\n",
    "        hist[elem] = np.array(hist[elem])\n",
    "    return beta, L, hist\n"
   ]
  },
  {
   "cell_type": "markdown",
   "metadata": {
    "id": "bP74mWq5ZGPc"
   },
   "source": [
    "Run the new optimizer with the adaptive step-size."
   ]
  },
  {
   "cell_type": "code",
   "execution_count": null,
   "metadata": {
    "id": "q116z7zmZGPc"
   },
   "outputs": [
    {
     "data": {
      "image/png": "[encoded data removed]",
      "text/plain": [
       "<Figure size 640x480 with 2 Axes>"
      ]
     },
     "metadata": {},
     "output_type": "display_data"
    }
   ],
   "source": [
    "beta0 = np.zeros(p)\n",
    "nit = 2000\n",
    "beta, L, hist = grad_opt_adapt(Leval_param, beta0, nit=nit)\n",
    "\n",
    "t = np.arange(nit)\n",
    "plt.subplot(2,1,1)\n",
    "plt.semilogy(t, hist['L'])\n",
    "plt.grid()\n",
    "plt.ylabel('Loss')\n",
    "\n",
    "plt.subplot(2,1,2)\n",
    "plt.loglog(t, hist['lr'])\n",
    "plt.grid()\n",
    "plt.ylabel('Learning rate')\n",
    "plt.xlabel('Iteration')\n",
    "plt.tight_layout()"
   ]
  },
  {
   "cell_type": "markdown",
   "metadata": {
    "id": "KcLnS7E_ZGPc"
   },
   "source": [
    "Below we measure the accuracy and see that the optimizer with adaptive step-size performed as well as the best fixed-step size used in the simplier gradient descent optimizer used earlier."
   ]
  },
  {
   "cell_type": "code",
   "execution_count": 26,
   "metadata": {
    "id": "Mdxl8r70ZGPc"
   },
   "outputs": [
    {
     "name": "stdout",
     "output_type": "stream",
     "text": [
      "Train accuracy = 0.970717\n"
     ]
    }
   ],
   "source": [
    "yhat = predict(X,beta)\n",
    "acc = np.mean(yhat == y)\n",
    "print(\"Train accuracy = %f\" % acc)"
   ]
  },
  {
   "cell_type": "markdown",
   "metadata": {
    "id": "Y7SoYMcwZGPc"
   },
   "source": [
    "## 5. Adding L2 Regularization to the Optimizer's Objective Function\n",
    "\n",
    "Similar to linear regression, logistic regression models with high-dimensional feature spaces are susceptible to overfitting. To mitigate this issue, regularization techniques are commonly employed during model training. Specifically, rather than minimizing the unregularized loss function:\n",
    "\n",
    "$$\n",
    "L(\\mathbf{\\vec{\\beta}}) =\\sum_{i=1}^n (1-y_i)(\\vec{x}_i^T\\vec{\\beta}) - \\log(h_{\\vec{\\beta}}(\\vec{x}_i))\n",
    "$$\n",
    "\n",
    "we implement $\\ell_2$ regularization by augmenting the objective function with a penalty term:\n",
    "\n",
    "$$\n",
    "L_R(\\vec{\\beta}) = L(\\vec{\\beta}) + \\lambda \\|\\vec{\\beta}\\|_2^2\n",
    "$$\n",
    "\n",
    "where $\\lambda \\geq 0$ is the regularization hyperparameter that controls the trade-off between model complexity (larger parameter vector norms) and training error. The $\\ell_2$ penalty term $\\|\\vec{\\beta}\\|_2^2 = \\sum_{j=1}^p \\beta_j^2$ encourages smaller parameter values, thereby reducing model complexity and improving generalization performance."
   ]
  },
  {
   "cell_type": "markdown",
   "metadata": {
    "id": "eQSpIig5ZGPd"
   },
   "source": [
    "Below `Leval` is rewritten to compute a regularized loss `Lr`."
   ]
  },
  {
   "cell_type": "code",
   "execution_count": 29,
   "metadata": {},
   "outputs": [],
   "source": [
    "# example loss and gradient evaluator function from earlier (unregularized logistic loss)\n",
    "\n",
    "def Leval(beta, X, y):\n",
    "    \"\"\"\n",
    "    Compute the loss and gradient given beta,X,y\n",
    "    \"\"\"\n",
    "    z = X@beta\n",
    "    h = 1/(1+np.exp(-z))\n",
    "    L = np.sum((1-y)*z - np.log(h))\n",
    "\n",
    "    # Gradient\n",
    "    Lgrad = (X.T)@(h-y)\n",
    "    return L, Lgrad"
   ]
  },
  {
   "cell_type": "code",
   "execution_count": null,
   "metadata": {
    "id": "mGPhxz42ZGPd"
   },
   "outputs": [],
   "source": [
    "def Leval_reg(beta, X, y, lamb):\n",
    "    \"\"\"\n",
    "    Compute the regularized loss, Lr, and regularized gradient, Lrgrad, given beta, X, y, and regularization parameter lamb\n",
    "    \"\"\"\n",
    "    #get the gradient component from the 'data-fit' term, the unregularized logistic loss function\n",
    "    L, Lgrad = Leval(beta, X, y)\n",
    "\n",
    "    # gradient of the regularization term is added to the gradient of the unregularized loss function\n",
    "    Lrgrad = Lgrad + 2*lamb*beta\n",
    "    Lr = L + lamb*np.sum(beta**2) \n",
    "\n",
    "    return Lr, Lrgrad\n",
    "\n",
    "# Create a function with X,y fixed to conform with standard numerical optimization framework interface\n",
    "Leval_reg_param = lambda beta, lamb: Leval_reg(beta, X, y, lamb)"
   ]
  },
  {
   "cell_type": "markdown",
   "metadata": {
    "id": "cZKhYWGiZGPd"
   },
   "source": [
    "Below the gradient optimizer function is adpated so that it is compapatible with the regularized loss function `Leval_reg`."
   ]
  },
  {
   "cell_type": "code",
   "execution_count": null,
   "metadata": {},
   "outputs": [],
   "source": [
    "#modify the gradient descent algorithm with adaptable learning rates\n",
    "#add regulariation term functionality\n",
    "\n",
    "def grad_opt_adapt_reg(grad_func, beta0, lamb, nit=2000, lr_init=1e-3):\n",
    "    \"\"\"\n",
    "    Gradient descent optimization with adaptive step size and a regularized loss function\n",
    "\n",
    "    feval:  A function that returns f, fgrad, the objective\n",
    "            function and its gradient\n",
    "    beta0:  Initial estimate\n",
    "    nit:    Number of iterations\n",
    "    lr_init:     Initial learning rate\n",
    "    \"\"\"\n",
    "\n",
    "    # Set initial point\n",
    "    beta = beta0\n",
    "    lr = lr_init\n",
    "\n",
    "    # Create history dictionary for tracking progress per iteration.\n",
    "    # This isn't necessary if you just want the final answer, but it\n",
    "    # is useful for debugging\n",
    "    hist = {'lr': [], 'beta': [], 'Lr': []}\n",
    "\n",
    "    Lr,Lrgrad = grad_func(beta0, lamb) # returns the loss and the gradient (of the Loss w.r.t. beta) evaluated at initial beta\n",
    "    for it in range(nit):\n",
    "\n",
    "        # Take a gradient step\n",
    "        beta1 = beta - lr*Lrgrad\n",
    "\n",
    "        # Evaluate the test point (test/current beta) by computing the objective function, L1,\n",
    "        # at the test point and the predicted decrease, df_est\n",
    "        L1, Lrgrad1 = grad_func(beta1, lamb)\n",
    "        df_est = Lrgrad.T@(beta1-beta)\n",
    "\n",
    "        # Check if test point passes the Armijo condition\n",
    "        alpha = 0.5\n",
    "        if (L1-Lr < alpha*df_est) and (L1 < Lr):\n",
    "            # If descent is sufficient(if the actual deecrease is less than (more negative) then half the predicted decrease), accept the point and increase the learning rate\n",
    "            lr = lr*2\n",
    "            Lr = L1\n",
    "            Lrgrad = Lrgrad1\n",
    "            beta = beta1\n",
    "        else:\n",
    "            # Otherwise, decrease the learning rate\n",
    "            lr = lr/2\n",
    "\n",
    "        # Save history\n",
    "        hist['Lr'].append(Lr)\n",
    "        hist['lr'].append(lr)\n",
    "        hist['beta'].append(beta)\n",
    "\n",
    "    # Convert to numpy arrays\n",
    "    for elem in ('Lr', 'lr', 'beta'):\n",
    "        hist[elem] = np.array(hist[elem])\n",
    "    return beta, Lr, hist\n"
   ]
  },
  {
   "cell_type": "markdown",
   "metadata": {
    "id": "M_qRks55ZGPd"
   },
   "source": [
    "Now the effect varying the regularization parameter `lamb` has on model performance is evaluated. The values of 0, 1, 10, and 100 are used for `lamb`. For each value, the adaptive gradient descent optimizer (`grad_opt_adapt`) is executed for 2000 iterations, starting from an initial parameter vector $\\vec{\\beta}_0 = \\vec{0}$, to approximate the minimizer of $L_R(\\beta)$. The resulting training accuracy is reported for each regularization level. As the regularization strength increases, a corresponding decrease in training accuracy is typically observed."
   ]
  },
  {
   "cell_type": "code",
   "execution_count": null,
   "metadata": {
    "id": "CAT5xPjfZGPd"
   },
   "outputs": [
    {
     "name": "stdout",
     "output_type": "stream",
     "text": [
      "lamb = 0, Train accuracy = 0.97072\n",
      "lamb = 1, Train accuracy = 0.96925\n",
      "lamb = 10, Train accuracy = 0.95900\n",
      "lamb = 100, Train accuracy = 0.92094\n"
     ]
    }
   ],
   "source": [
    "lamb_list = [0, 1, 10, 100]\n",
    "lamb_hist = {lamb: None for lamb in lamb_list}\n",
    "\n",
    "beta0 = np.zeros(p)\n",
    "nit = 2000\n",
    "final_beta_list = [None] * len(lamb_list)\n",
    "\n",
    "for i in range(len(lamb_list)):\n",
    "    #run GD with adaptive learning rate and L2 Regularization for current lambda parameter\n",
    "    final_beta, final_Reg_Loss, hist = grad_opt_adapt_reg(Leval_reg_param, beta0, lamb_list[i], nit)\n",
    "\n",
    "    #store each lamb iteration history (across all betas/learning rates during each GD process)\n",
    "    lamb_hist[lamb_list[i]] = hist\n",
    "    final_beta_list[i] = final_beta\n",
    "\n",
    "\n",
    "for i in range(len(lamb_list)):\n",
    "\n",
    "    yhat = predict(X,final_beta_list[i])\n",
    "    acc = np.mean(yhat == y)\n",
    "    print(f\"lamb = {lamb_list[i]}, Train accuracy = {acc:.5f}\")\n"
   ]
  },
  {
   "cell_type": "markdown",
   "metadata": {},
   "source": [
    "## 6. Implementing a Stochastic Gradient Descent Optimizer\n",
    "\n",
    "For very large data sets, implementing full gradient descent can be impractical, so stochastic gradient descent is used instead.\n",
    "In this next section, the goal is to implement a stochastic gradient oracle and corresponding stochastic gradient descent optimizer to minimize the logistic loss function.\n",
    "\n",
    "\n",
    "First a function that computes the following gradient is defined:\n",
    "\n",
    "$$\n",
    "L_j(\\vec{\\beta}) = (1 - y_j)\\vec{x}_j^T \\vec{\\beta} - \\log(h_{\\vec{\\beta}}(\\vec{x}_j))\n",
    "$$\n",
    "\n",
    "for any $j$. \n",
    "\n",
    "The fucntion takes the vector $\\vec{x}_j$ and label $y_j \\in \\{0,1\\}$ as input. Note that\n",
    "\n",
    "$$\n",
    "L(\\vec{\\beta}) = \\sum_{i=1}^n L_j(\\vec{\\beta}),\n",
    "$$\n",
    "\n",
    "with the following expectation, $n \\cdot \\mathbb{E}[\\nabla L_j(\\vec{\\beta})] = \\nabla L(\\vec{\\beta})$.\n"
   ]
  },
  {
   "cell_type": "code",
   "execution_count": null,
   "metadata": {
    "id": "8stcfSHe8eM9"
   },
   "outputs": [],
   "source": [
    "def Leval_stoc(beta,x,y):\n",
    "    \"\"\"\n",
    "    Compute the stochastic gradient given beta, vector x, and single label y\n",
    "    Note that, unlike before, your function should not compute the loss function value,\n",
    "    as this would be more expensive then computing the stochastic gradient\n",
    "    \"\"\"\n",
    "\n",
    "    z = x@beta\n",
    "    h = 1/(1+np.exp(-z))\n",
    "\n",
    "    # Gradient\n",
    "    Lgrad_stoc = (h-y) * x\n",
    "\n",
    "    return Lgrad_stoc"
   ]
  },
  {
   "cell_type": "code",
   "execution_count": 55,
   "metadata": {},
   "outputs": [],
   "source": [
    "# Create a function with X,y fixed\n",
    "Leval_stoc_param = lambda beta: Leval_stoc(beta, X, y)"
   ]
  },
  {
   "cell_type": "markdown",
   "metadata": {
    "id": "OH_Xm9vWZCzD"
   },
   "source": [
    "Just as for the standard gradient oracle, check that the stochastic gradient is being computed directly. This is done by verifying that $n\\cdot \\mathbb{E}[\\nabla L_j(\\vec{\\beta})] = \\nabla L(\\vec{\\beta})$. To do so, $\\mathbb{E}[\\nabla L_j(\\vec{\\beta})]$ can be estiated using a large sample of data points and then compared to $\\nabla L(\\vec{\\beta})$. \n",
    "\n",
    "Below, $\\mathbb{E}[\\nabla L_j(\\vec{\\beta})]$ is estimated using 10000 random samples."
   ]
  },
  {
   "cell_type": "code",
   "execution_count": null,
   "metadata": {
    "id": "gM0pNCAGcTOY"
   },
   "outputs": [
    {
     "name": "stdout",
     "output_type": "stream",
     "text": [
      "‖n * Average(delta_L_j) - delta_L‖ = 39.9962481752303\n"
     ]
    }
   ],
   "source": [
    "\n",
    "# Pick a random test beta\n",
    "beta_test = np.random.randn(p)\n",
    "\n",
    "# Get many indices for random sampling of datapoints \n",
    "m = 10000\n",
    "n = X.shape[0]\n",
    "idxs = np.random.randint(0, n, size=m)\n",
    "\n",
    "# Accumulate the individual gradients of each sampled datapoint\n",
    "grad_accum = np.zeros_like(beta_test)\n",
    "for j in idxs:\n",
    "    grad_accum += Leval_stoc(beta_test, X[j, :], y[j])  # single-sample gradient\n",
    "\n",
    "\n",
    "stoc_grad_est = (n / m) * grad_accum\n",
    "\n",
    "# 5. Compare to the full batch gradient\n",
    "L_full, Lgrad_full = Leval(beta_test, X, y)   # from your earlier logistic loss\n",
    "print(\"‖n * Average(delta_L_j) - delta_L‖ =\", np.linalg.norm(stoc_grad_est - Lgrad_full))\n",
    "\n"
   ]
  },
  {
   "cell_type": "code",
   "execution_count": null,
   "metadata": {},
   "outputs": [],
   "source": []
  },
  {
   "cell_type": "markdown",
   "metadata": {
    "id": "84JhB-b8e8Xs"
   },
   "source": [
    "Below we use the stochastic gradient oracle, `Leval_stoc`, to implement a stochastic gradient descent optimizer with a fixed learning rate.\n",
    "\n",
    "Here the history of losses at every iteration is logged. While this is computationally expensive, it is done for subsequent comparison and visualization purposes."
   ]
  },
  {
   "cell_type": "code",
   "execution_count": null,
   "metadata": {},
   "outputs": [],
   "source": [
    "def stoc_grad_opt(X, y, stoc_grad_func, beta0, lr=1e-3, nit=1000):\n",
    "    \"\"\"\n",
    "    Stochastic Gradient Descent for unregularized logistic loss\n",
    "    using Leval_stoc (single-sample gradient).\n",
    "\n",
    "    \n",
    "    stoc_grad_func:  A function that returns the stochastic gradient of the lost for a given input rows of X and entry of y\n",
    "    beta0:  Initial estimate for parameters beta\n",
    "    lr:     learning rate\n",
    "    nit:    Number of iterations\n",
    "    \"\"\"\n",
    "    n, p = X.shape\n",
    "    beta = beta0.copy()\n",
    "\n",
    "    # For tracking progress\n",
    "    hist = {'beta': [], 'L': []}\n",
    "\n",
    "    for it in range(nit):\n",
    "        # Evaluate full logistic loss for debugging/logging\n",
    "        L, _ = Leval(beta, X, y)\n",
    "        hist['beta'].append(beta.copy())\n",
    "        hist['L'].append(L)\n",
    "        \n",
    "        # Pick a random data index for this iteration\n",
    "        j = np.random.randint(0, n)\n",
    "        \n",
    "        # Compute single-sample gradient (stochastic gradient)\n",
    "        grad_stoc = Leval_stoc(beta, X[j], y[j])\n",
    "        \n",
    "        # Gradient descent update\n",
    "        beta = beta - lr * grad_stoc\n",
    "\n",
    "    # Evaluate full logistic loss one final time\n",
    "    L_final, _ = Leval(beta, X, y)\n",
    "    return beta, L_final, hist"
   ]
  },
  {
   "cell_type": "markdown",
   "metadata": {
    "id": "ApUhjvdEgIPz"
   },
   "source": [
    "Now the stochastic gradient descent optimizer is ran starting from initial condition $\\boldsymbol{\\beta}_0 = \\vec{0}$. The output is then plotted. \n",
    "\n",
    "*Notice:* even for small learning rates, the loss does not necessarily decrease monotonically due to randomness inherent in the stochastic method."
   ]
  },
  {
   "cell_type": "code",
   "execution_count": null,
   "metadata": {
    "id": "qkNRvI_x9VpG"
   },
   "outputs": [
    {
     "data": {
      "image/png": "[encoded data removed]",
      "text/plain": [
       "<Figure size 640x480 with 1 Axes>"
      ]
     },
     "metadata": {},
     "output_type": "display_data"
    }
   ],
   "source": [
    "# Initial condition\n",
    "beta0 = np.zeros(p)\n",
    "\n",
    "# Parameters\n",
    "nit = 10000\n",
    "lr = 1e-3\n",
    "\n",
    "# Run the gradient descent\n",
    "beta, L, hist = stoc_grad_opt(X, y, Leval_stoc, beta0, lr=lr, nit=nit)\n",
    "\n",
    "# Plot the training loss\n",
    "t = np.arange(nit)\n",
    "plt.plot(t, hist['L'])\n",
    "plt.title('Training Loss vs Iterations')\n",
    "plt.xlabel('Iterations')\n",
    "plt.ylabel('Training Loss')\n",
    "plt.grid()"
   ]
  },
  {
   "cell_type": "markdown",
   "metadata": {
    "id": "lhfDOaFSgw4i"
   },
   "source": [
    "## 7. Comparing Stochastic Gradient Descent Optimizer with the Adpative Learning Rate Optimizer\n",
    "\n",
    "To align the logging of the stochastic gradient descent optimizer with that of the gradient descent optimizer using adaptive learning rates, the stochastic optimizer is modified to accept the number of epochs as an argument instead of the number of iterations. Within each epoch, the entire dataset is iterated over (with optional shuffling of the data), updating the parameters for each sample. The full loss function value is computed and logged only at the end of each epoch. This approach ensures that the loss history is recorded once per epoch, making the outputs of both optimizers directly comparable."
   ]
  },
  {
   "cell_type": "code",
   "execution_count": null,
   "metadata": {},
   "outputs": [],
   "source": [
    "def stoc_grad_opt_epoch(X, y, stoc_grad_func, beta0, lr=1e-3, nepoch=500):\n",
    "    \"\"\"\n",
    "    Simple stochastic gradient descent optimization\n",
    "\n",
    "    stoc_grad_func:  A function that returns the stochastic gradient of the lost for a given input rows of X and entry of y\n",
    "    beta0:  Initial estimate for parameters beta\n",
    "    lr:     learning rate\n",
    "    nepoch:    Number of epochs of training\n",
    "    \"\"\"\n",
    "\n",
    "    n, p = X.shape\n",
    "    beta = beta0.copy()\n",
    "    \n",
    "    # Dictionary to store the parameter vector and full loss after each epoch\n",
    "    hist = {'beta': [], 'L': []}\n",
    "    \n",
    "    for epoch in range(nepoch):\n",
    "        # Shuffle the data indices for this epoch\n",
    "        idxs = np.random.permutation(n)\n",
    "        \n",
    "        # Loop over each sample in random order\n",
    "        for j in idxs:\n",
    "            # Compute single-sample gradient\n",
    "            grad_stoc = stoc_grad_func(beta, X[j], y[j])\n",
    "            # Gradient descent update\n",
    "            beta = beta - lr * grad_stoc\n",
    "        \n",
    "        # Compute the full batch loss once per epoch\n",
    "        L_epoch, _ = Leval(beta, X, y)\n",
    "        \n",
    "        # Store results\n",
    "        hist['beta'].append(beta.copy())\n",
    "        hist['L'].append(L_epoch)\n",
    "    \n",
    "    # Final loss after last epoch\n",
    "    L_final, _ = Leval(beta, X, y)\n",
    "    return beta, L_final, hist\n"
   ]
  },
  {
   "cell_type": "markdown",
   "metadata": {
    "id": "qn6mkv-KkFTC"
   },
   "source": [
    "Now both the stochastic gradient descent method and the standard gradient descent method with adaptive step size (`grad_opt_adapt`) are ran for 500 epochs.\n",
    "\n",
    "A plot of the loss function errors obtained at the end of each epoch for each optimzer is below. From the plot, given an appropriate choice of step size, it is evident that the stochastic gradient descent optimizer requires fewer epochs to reach near a minimal loss in comparison to standard adaptive learing rate gradient descent optimizer."
   ]
  },
  {
   "cell_type": "code",
   "execution_count": null,
   "metadata": {
    "id": "GIEJ1j5LiXBG"
   },
   "outputs": [
    {
     "data": {
      "image/png": "[encoded data removed]",
      "text/plain": [
       "<Figure size 700x500 with 1 Axes>"
      ]
     },
     "metadata": {},
     "output_type": "display_data"
    }
   ],
   "source": [
    "beta0 = np.zeros(p)\n",
    "\n",
    "beta_sgd, L_sgd, hist_sgd = stoc_grad_opt_epoch(\n",
    "    X, y,\n",
    "    Leval_stoc,\n",
    "    beta0,\n",
    "    lr=1e-3,\n",
    "    nepoch=500\n",
    ")\n",
    "\n",
    "# Run full-batch gradient descent with adaptive step size for 500 iterations\n",
    "beta_adapt, L_adapt, hist_adapt = grad_opt_adapt(Leval_param, beta0, nit=500, lr_init=1e-3)\n",
    "\n",
    "# Plot the losses\n",
    "plt.figure(figsize=(7,5))\n",
    "plt.plot(hist_adapt['L'], label='Adaptive Gradient Descent')       # 1 loss value per iteration\n",
    "plt.plot(hist_sgd['L'], label='Stochastic Gradient Descent' )       # 1 loss value per epoch\n",
    "plt.xlabel('Epoch')\n",
    "plt.ylabel('Loss')\n",
    "plt.legend()\n",
    "plt.grid(True)\n",
    "plt.show()"
   ]
  }
 ],
 "metadata": {
  "anaconda-cloud": {},
  "colab": {
   "provenance": []
  },
  "kernelspec": {
   "display_name": "Python 3",
   "language": "python",
   "name": "python3"
  },
  "language_info": {
   "codemirror_mode": {
    "name": "ipython",
    "version": 3
   },
   "file_extension": ".py",
   "mimetype": "text/x-python",
   "name": "python",
   "nbconvert_exporter": "python",
   "pygments_lexer": "ipython3",
   "version": "3.12.5"
  }
 },
 "nbformat": 4,
 "nbformat_minor": 0
}
